{
  "cells": [
    {
      "cell_type": "markdown",
      "metadata": {
        "id": "view-in-github",
        "colab_type": "text"
      },
      "source": [
        "<a href=\"https://colab.research.google.com/github/Szymanskaola1998/data/blob/main/Wizualizacja.ipynb\" target=\"_parent\"><img src=\"https://colab.research.google.com/assets/colab-badge.svg\" alt=\"Open In Colab\"/></a>"
      ]
    },
    {
      "cell_type": "markdown",
      "metadata": {
        "id": "TIpwlGuaP87d"
      },
      "source": [
        "\n",
        "**Gr. Aleksandra Szymańska, Michał Sosnowski, Przemysław Oblinski**\n",
        "\n",
        "#*Wypadki lotnicze na terenie Stanów Zjednoczonych*\n",
        "\n",
        "Analizowany zbiór danych zawiera informację o wypadkach lotniczych od roku 1982 w lotnictwie cywilnym i wybranych incydentach na terenie Stanów Zjednoczonych, ich terytoriów i posiadłości oraz na wodach międzynarodowych."
      ]
    },
    {
      "cell_type": "markdown",
      "source": [
        "# **ZMIENNE**#"
      ],
      "metadata": {
        "id": "9PPr8rYqv1T3"
      }
    },
    {
      "cell_type": "markdown",
      "source": [
        "Baza danych zawiera 8146 obserwacji, którą badano według 17 kryteriów. \n",
        "Po optymalizacji liczby zmiennych końcowo zdarzenia zostały analizowane według 15 kryteriów, które opisano poniżej."
      ],
      "metadata": {
        "id": "tamJ_wbT6htx"
      }
    },
    {
      "cell_type": "markdown",
      "source": [
        "**1. Typ zdarzenia** - typ zdarzenia dzieli się na wypadek (98,5%) oraz incydent (1,5%)\n",
        "\n",
        "**2. Data**  - data zdarzenia (1982 - 2020)\n",
        "\n",
        "**3. Lokalizacja** - 8146 lokalizacji na terenie których występowały wypadki\n",
        "\n",
        "**4. Kraj** - zmienna dzieli się w 93% na Stany Zjednoczone, 0% Meksyk oraz 7% inne\n",
        "\n",
        "**5. Skala** - zmienna dzieli się na wypadki śmiertelne, nieśmiertelne, incydent\n",
        "\n",
        "**6. Stan Maszyny** - określa stopień szkód maszyny po wypadku (zniszczony, istotny, mały, nieznany)\n",
        "\n",
        "**7. Typ Maszyny** - kategoria samolotu np. helikopter, samolot\n",
        "\n",
        "**8. Make** - firma/ marka samolotu\n",
        "\n",
        "**9. Amatorska Budowa**  - zmienna binarna (tak/nie) odpowiada czy maszyna była amatorsko zbudowana\n",
        "\n",
        "**10. Liczba Silników**  - ilość silników w samolocie\n",
        "\n",
        "**11. Cel Lotu**  - określa cel lotu pasażerów. (np. osobista, biznsowa, straż pożarna)\n",
        "\n",
        "**12. Linia Lotnicza**  - przewoźnik lotniczy dla których występowały wypadki\n",
        "\n",
        "**13. Ilość ofiar śmiertelnych**  - liczba ofiar śmiertelnych w danym wypadku\n",
        "\n",
        "**14. Ilość ciężko rannych**  - liczba ofiar ciężko rannych w danym wypadku \n",
        "\n",
        "**15. Ilość lekko rannych** - liczba ofiar lekko rannych w danym wypadku\n"
      ],
      "metadata": {
        "id": "yKbBl95nv5ue"
      }
    },
    {
      "cell_type": "markdown",
      "metadata": {
        "id": "Dos3CI7KUAFp"
      },
      "source": [
        "\n",
        "# **IMPORT DANYCH**\n",
        "\n",
        "\n",
        "\n",
        "\n",
        "\n",
        "\n"
      ]
    },
    {
      "cell_type": "code",
      "execution_count": 1,
      "metadata": {
        "colab": {
          "base_uri": "https://localhost:8080/",
          "height": 90,
          "resources": {
            "http://localhost:8080/nbextensions/google.colab/files.js": {
              "data": "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",
              "headers": [
                [
                  "content-type",
                  "application/javascript"
                ]
              ],
              "ok": true,
              "status": 200,
              "status_text": ""
            }
          }
        },
        "id": "jsm3WE6FTHnC",
        "outputId": "0a35d576-b06c-4e3e-c713-8ca40146e2ec"
      },
      "outputs": [
        {
          "output_type": "display_data",
          "data": {
            "text/html": [
              "\n",
              "     <input type=\"file\" id=\"files-34a6e73b-57e8-41ca-afed-8c751f8b2dbe\" name=\"files[]\" multiple disabled\n",
              "        style=\"border:none\" />\n",
              "     <output id=\"result-34a6e73b-57e8-41ca-afed-8c751f8b2dbe\">\n",
              "      Upload widget is only available when the cell has been executed in the\n",
              "      current browser session. Please rerun this cell to enable.\n",
              "      </output>\n",
              "      <script src=\"/nbextensions/google.colab/files.js\"></script> "
            ],
            "text/plain": [
              "<IPython.core.display.HTML object>"
            ]
          },
          "metadata": {}
        },
        {
          "output_type": "stream",
          "name": "stdout",
          "text": [
            "Saving Samoloty.xlsx to Samoloty.xlsx\n",
            "User uploaded file \"Samoloty.xlsx\" with length 853593 bytes\n"
          ]
        }
      ],
      "source": [
        "from google.colab import files\n",
        "\n",
        "uploaded = files.upload()\n",
        "\n",
        "for fn in uploaded.keys():\n",
        "  print('User uploaded file \"{name}\" with length {length} bytes'.format(\n",
        "      name=fn, length=len(uploaded[fn])))"
      ]
    },
    {
      "cell_type": "markdown",
      "source": [
        "## **Pakiety** "
      ],
      "metadata": {
        "id": "ocg-o_C7GsjJ"
      }
    },
    {
      "cell_type": "code",
      "source": [
        "import matplotlib.pyplot as plt\n",
        "import seaborn as sns\n"
      ],
      "metadata": {
        "id": "BBAvD6oQC4-1"
      },
      "execution_count": 2,
      "outputs": []
    },
    {
      "cell_type": "markdown",
      "source": [
        "### Pakiety do czwartego wykresu - Wykres liniowy + regresja"
      ],
      "metadata": {
        "id": "rUbTfGApZHjz"
      }
    },
    {
      "cell_type": "code",
      "source": [
        "import seaborn as sns\n",
        "sns.set()"
      ],
      "metadata": {
        "id": "fkQeSVPWX-fa"
      },
      "execution_count": 3,
      "outputs": []
    },
    {
      "cell_type": "code",
      "source": [
        "import matplotlib.pyplot as plt\n",
        "plt.style.use('classic')\n",
        "%matplotlib inline"
      ],
      "metadata": {
        "id": "WMvlqPT2YDd7"
      },
      "execution_count": 4,
      "outputs": []
    },
    {
      "cell_type": "code",
      "source": [
        "import numpy as np\n",
        "import pandas as pd"
      ],
      "metadata": {
        "id": "KwOweP5-YIvV"
      },
      "execution_count": 5,
      "outputs": []
    },
    {
      "cell_type": "markdown",
      "source": [
        "### Pakiety wykres kołowy"
      ],
      "metadata": {
        "id": "yr2h-vFgisC2"
      }
    },
    {
      "cell_type": "code",
      "source": [
        "import matplotlib.pyplot as plt\n",
        "import pandas as pd"
      ],
      "metadata": {
        "id": "ITrwsNUBirfl"
      },
      "execution_count": 6,
      "outputs": []
    },
    {
      "cell_type": "code",
      "source": [
        "import pandas as pd\n",
        "import plotly.express as px\n",
        "import matplotlib\n",
        "from google.colab import drive"
      ],
      "metadata": {
        "id": "BOrn3PlVoKK1"
      },
      "execution_count": 7,
      "outputs": []
    },
    {
      "cell_type": "markdown",
      "source": [
        "### Pakiety wykres kafelkowy"
      ],
      "metadata": {
        "id": "RwUOOA4HCCyZ"
      }
    },
    {
      "cell_type": "code",
      "source": [
        "!pip install PyWaffle"
      ],
      "metadata": {
        "colab": {
          "base_uri": "https://localhost:8080/"
        },
        "id": "HeoHZKNCGfyz",
        "outputId": "10faff51-368c-4a9f-9c32-e88ea4fcc26a"
      },
      "execution_count": 53,
      "outputs": [
        {
          "output_type": "stream",
          "name": "stdout",
          "text": [
            "Collecting PyWaffle\n",
            "  Downloading pywaffle-0.6.4-py2.py3-none-any.whl (565 kB)\n",
            "\u001b[?25l\r\u001b[K     |▋                               | 10 kB 14.4 MB/s eta 0:00:01\r\u001b[K     |█▏                              | 20 kB 19.0 MB/s eta 0:00:01\r\u001b[K     |█▊                              | 30 kB 23.8 MB/s eta 0:00:01\r\u001b[K     |██▎                             | 40 kB 26.0 MB/s eta 0:00:01\r\u001b[K     |███                             | 51 kB 28.4 MB/s eta 0:00:01\r\u001b[K     |███▌                            | 61 kB 22.0 MB/s eta 0:00:01\r\u001b[K     |████                            | 71 kB 18.9 MB/s eta 0:00:01\r\u001b[K     |████▋                           | 81 kB 19.4 MB/s eta 0:00:01\r\u001b[K     |█████▏                          | 92 kB 20.9 MB/s eta 0:00:01\r\u001b[K     |█████▉                          | 102 kB 20.5 MB/s eta 0:00:01\r\u001b[K     |██████▍                         | 112 kB 20.5 MB/s eta 0:00:01\r\u001b[K     |███████                         | 122 kB 20.5 MB/s eta 0:00:01\r\u001b[K     |███████▌                        | 133 kB 20.5 MB/s eta 0:00:01\r\u001b[K     |████████                        | 143 kB 20.5 MB/s eta 0:00:01\r\u001b[K     |████████▊                       | 153 kB 20.5 MB/s eta 0:00:01\r\u001b[K     |█████████▎                      | 163 kB 20.5 MB/s eta 0:00:01\r\u001b[K     |█████████▉                      | 174 kB 20.5 MB/s eta 0:00:01\r\u001b[K     |██████████▍                     | 184 kB 20.5 MB/s eta 0:00:01\r\u001b[K     |███████████                     | 194 kB 20.5 MB/s eta 0:00:01\r\u001b[K     |███████████▋                    | 204 kB 20.5 MB/s eta 0:00:01\r\u001b[K     |████████████▏                   | 215 kB 20.5 MB/s eta 0:00:01\r\u001b[K     |████████████▊                   | 225 kB 20.5 MB/s eta 0:00:01\r\u001b[K     |█████████████▎                  | 235 kB 20.5 MB/s eta 0:00:01\r\u001b[K     |██████████████                  | 245 kB 20.5 MB/s eta 0:00:01\r\u001b[K     |██████████████▌                 | 256 kB 20.5 MB/s eta 0:00:01\r\u001b[K     |███████████████                 | 266 kB 20.5 MB/s eta 0:00:01\r\u001b[K     |███████████████▋                | 276 kB 20.5 MB/s eta 0:00:01\r\u001b[K     |████████████████▏               | 286 kB 20.5 MB/s eta 0:00:01\r\u001b[K     |████████████████▉               | 296 kB 20.5 MB/s eta 0:00:01\r\u001b[K     |█████████████████▍              | 307 kB 20.5 MB/s eta 0:00:01\r\u001b[K     |██████████████████              | 317 kB 20.5 MB/s eta 0:00:01\r\u001b[K     |██████████████████▌             | 327 kB 20.5 MB/s eta 0:00:01\r\u001b[K     |███████████████████             | 337 kB 20.5 MB/s eta 0:00:01\r\u001b[K     |███████████████████▊            | 348 kB 20.5 MB/s eta 0:00:01\r\u001b[K     |████████████████████▎           | 358 kB 20.5 MB/s eta 0:00:01\r\u001b[K     |████████████████████▉           | 368 kB 20.5 MB/s eta 0:00:01\r\u001b[K     |█████████████████████▍          | 378 kB 20.5 MB/s eta 0:00:01\r\u001b[K     |██████████████████████          | 389 kB 20.5 MB/s eta 0:00:01\r\u001b[K     |██████████████████████▋         | 399 kB 20.5 MB/s eta 0:00:01\r\u001b[K     |███████████████████████▏        | 409 kB 20.5 MB/s eta 0:00:01\r\u001b[K     |███████████████████████▊        | 419 kB 20.5 MB/s eta 0:00:01\r\u001b[K     |████████████████████████▎       | 430 kB 20.5 MB/s eta 0:00:01\r\u001b[K     |█████████████████████████       | 440 kB 20.5 MB/s eta 0:00:01\r\u001b[K     |█████████████████████████▌      | 450 kB 20.5 MB/s eta 0:00:01\r\u001b[K     |██████████████████████████      | 460 kB 20.5 MB/s eta 0:00:01\r\u001b[K     |██████████████████████████▋     | 471 kB 20.5 MB/s eta 0:00:01\r\u001b[K     |███████████████████████████▏    | 481 kB 20.5 MB/s eta 0:00:01\r\u001b[K     |███████████████████████████▉    | 491 kB 20.5 MB/s eta 0:00:01\r\u001b[K     |████████████████████████████▍   | 501 kB 20.5 MB/s eta 0:00:01\r\u001b[K     |█████████████████████████████   | 512 kB 20.5 MB/s eta 0:00:01\r\u001b[K     |█████████████████████████████▌  | 522 kB 20.5 MB/s eta 0:00:01\r\u001b[K     |██████████████████████████████▏ | 532 kB 20.5 MB/s eta 0:00:01\r\u001b[K     |██████████████████████████████▊ | 542 kB 20.5 MB/s eta 0:00:01\r\u001b[K     |███████████████████████████████▎| 552 kB 20.5 MB/s eta 0:00:01\r\u001b[K     |███████████████████████████████▉| 563 kB 20.5 MB/s eta 0:00:01\r\u001b[K     |████████████████████████████████| 565 kB 20.5 MB/s \n",
            "\u001b[?25hRequirement already satisfied: matplotlib in /usr/local/lib/python3.7/dist-packages (from PyWaffle) (3.2.2)\n",
            "Requirement already satisfied: numpy>=1.11 in /usr/local/lib/python3.7/dist-packages (from matplotlib->PyWaffle) (1.19.5)\n",
            "Requirement already satisfied: kiwisolver>=1.0.1 in /usr/local/lib/python3.7/dist-packages (from matplotlib->PyWaffle) (1.3.2)\n",
            "Requirement already satisfied: python-dateutil>=2.1 in /usr/local/lib/python3.7/dist-packages (from matplotlib->PyWaffle) (2.8.2)\n",
            "Requirement already satisfied: pyparsing!=2.0.4,!=2.1.2,!=2.1.6,>=2.0.1 in /usr/local/lib/python3.7/dist-packages (from matplotlib->PyWaffle) (3.0.7)\n",
            "Requirement already satisfied: cycler>=0.10 in /usr/local/lib/python3.7/dist-packages (from matplotlib->PyWaffle) (0.11.0)\n",
            "Requirement already satisfied: six>=1.5 in /usr/local/lib/python3.7/dist-packages (from python-dateutil>=2.1->matplotlib->PyWaffle) (1.15.0)\n",
            "Installing collected packages: PyWaffle\n",
            "Successfully installed PyWaffle-0.6.4\n"
          ]
        }
      ]
    },
    {
      "cell_type": "markdown",
      "metadata": {
        "id": "fovw_JQ8iMTk"
      },
      "source": [
        "\n",
        "\n",
        "## **Dane przed optymalizacją zmiennych** \n",
        "\n"
      ]
    },
    {
      "cell_type": "code",
      "execution_count": 8,
      "metadata": {
        "id": "9iFCSzrT0ta-"
      },
      "outputs": [],
      "source": [
        "from __future__ import print_function\n",
        "from ipywidgets import interact, interactive, fixed, interact_manual\n",
        "import ipywidgets as widgets"
      ]
    },
    {
      "cell_type": "code",
      "execution_count": 27,
      "metadata": {
        "id": "3sjBY8WOh1q4",
        "colab": {
          "base_uri": "https://localhost:8080/",
          "height": 696
        },
        "outputId": "c99ec1fc-e4ce-4da0-d530-d109916aaf13"
      },
      "outputs": [
        {
          "output_type": "execute_result",
          "data": {
            "text/html": [
              "\n",
              "  <div id=\"df-7d2cb46b-6296-4ea4-a72a-604d17cd0882\">\n",
              "    <div class=\"colab-df-container\">\n",
              "      <div>\n",
              "<style scoped>\n",
              "    .dataframe tbody tr th:only-of-type {\n",
              "        vertical-align: middle;\n",
              "    }\n",
              "\n",
              "    .dataframe tbody tr th {\n",
              "        vertical-align: top;\n",
              "    }\n",
              "\n",
              "    .dataframe thead th {\n",
              "        text-align: right;\n",
              "    }\n",
              "</style>\n",
              "<table border=\"1\" class=\"dataframe\">\n",
              "  <thead>\n",
              "    <tr style=\"text-align: right;\">\n",
              "      <th></th>\n",
              "      <th>Event.Id</th>\n",
              "      <th>Investigation.Type</th>\n",
              "      <th>Accident.Number</th>\n",
              "      <th>Event.Date</th>\n",
              "      <th>Location</th>\n",
              "      <th>Country</th>\n",
              "      <th>Injury.Severity</th>\n",
              "      <th>Aircraft.damage</th>\n",
              "      <th>Aircraft.Category</th>\n",
              "      <th>Make</th>\n",
              "      <th>Amateur.Built</th>\n",
              "      <th>Number.of.Engines</th>\n",
              "      <th>Purpose.of.flight</th>\n",
              "      <th>Air.carrier</th>\n",
              "      <th>Total.Fatal.Injuries</th>\n",
              "      <th>Total.Serious.Injuries</th>\n",
              "      <th>Total.Minor.Injuries</th>\n",
              "    </tr>\n",
              "  </thead>\n",
              "  <tbody>\n",
              "    <tr>\n",
              "      <th>0</th>\n",
              "      <td>20200923X84757</td>\n",
              "      <td>Accident</td>\n",
              "      <td>ERA20LA330</td>\n",
              "      <td>2020</td>\n",
              "      <td>Floral City, FL</td>\n",
              "      <td>United States</td>\n",
              "      <td>Fatal</td>\n",
              "      <td>Destroyed</td>\n",
              "      <td>Airplane</td>\n",
              "      <td>Piper</td>\n",
              "      <td>N</td>\n",
              "      <td>1</td>\n",
              "      <td>Aerial Application</td>\n",
              "      <td>CONSOLIDATED AG PILOT SERVICES LLC.</td>\n",
              "      <td>1</td>\n",
              "      <td>0</td>\n",
              "      <td>0</td>\n",
              "    </tr>\n",
              "    <tr>\n",
              "      <th>1</th>\n",
              "      <td>20200923X30413</td>\n",
              "      <td>Accident</td>\n",
              "      <td>WPR20CA316</td>\n",
              "      <td>2020</td>\n",
              "      <td>Pacific City, OR</td>\n",
              "      <td>United States</td>\n",
              "      <td>Non-Fatal</td>\n",
              "      <td>Substantial</td>\n",
              "      <td>Airplane</td>\n",
              "      <td>Piper</td>\n",
              "      <td>N</td>\n",
              "      <td>1</td>\n",
              "      <td>Personal</td>\n",
              "      <td>Ricardo Byers</td>\n",
              "      <td>0</td>\n",
              "      <td>0</td>\n",
              "      <td>0</td>\n",
              "    </tr>\n",
              "    <tr>\n",
              "      <th>2</th>\n",
              "      <td>20200922X94309</td>\n",
              "      <td>Accident</td>\n",
              "      <td>ERA20LA333</td>\n",
              "      <td>2020</td>\n",
              "      <td>Jackson, TN</td>\n",
              "      <td>United States</td>\n",
              "      <td>Non-Fatal</td>\n",
              "      <td>Substantial</td>\n",
              "      <td>Airplane</td>\n",
              "      <td>Ayres</td>\n",
              "      <td>N</td>\n",
              "      <td>1</td>\n",
              "      <td>Aerial Application</td>\n",
              "      <td>AirWorks LLC</td>\n",
              "      <td>0</td>\n",
              "      <td>0</td>\n",
              "      <td>0</td>\n",
              "    </tr>\n",
              "    <tr>\n",
              "      <th>3</th>\n",
              "      <td>20200922X00441</td>\n",
              "      <td>Accident</td>\n",
              "      <td>CEN20CA416</td>\n",
              "      <td>2020</td>\n",
              "      <td>Lafayette, IN</td>\n",
              "      <td>United States</td>\n",
              "      <td>Non-Fatal</td>\n",
              "      <td>Substantial</td>\n",
              "      <td>Airplane</td>\n",
              "      <td>Cessna</td>\n",
              "      <td>N</td>\n",
              "      <td>1</td>\n",
              "      <td>Instructional</td>\n",
              "      <td>Purdue Aviation Llc</td>\n",
              "      <td>0</td>\n",
              "      <td>0</td>\n",
              "      <td>0</td>\n",
              "    </tr>\n",
              "    <tr>\n",
              "      <th>4</th>\n",
              "      <td>20200920X32151</td>\n",
              "      <td>Accident</td>\n",
              "      <td>WPR20CA313</td>\n",
              "      <td>2020</td>\n",
              "      <td>Somerton, AZ</td>\n",
              "      <td>United States</td>\n",
              "      <td>Non-Fatal</td>\n",
              "      <td>Destroyed</td>\n",
              "      <td>Airplane</td>\n",
              "      <td>Air Tractor</td>\n",
              "      <td>N</td>\n",
              "      <td>1</td>\n",
              "      <td>Aerial Application</td>\n",
              "      <td>Tri-Rotor Spray &amp; Chemical</td>\n",
              "      <td>0</td>\n",
              "      <td>0</td>\n",
              "      <td>0</td>\n",
              "    </tr>\n",
              "    <tr>\n",
              "      <th>...</th>\n",
              "      <td>...</td>\n",
              "      <td>...</td>\n",
              "      <td>...</td>\n",
              "      <td>...</td>\n",
              "      <td>...</td>\n",
              "      <td>...</td>\n",
              "      <td>...</td>\n",
              "      <td>...</td>\n",
              "      <td>...</td>\n",
              "      <td>...</td>\n",
              "      <td>...</td>\n",
              "      <td>...</td>\n",
              "      <td>...</td>\n",
              "      <td>...</td>\n",
              "      <td>...</td>\n",
              "      <td>...</td>\n",
              "      <td>...</td>\n",
              "    </tr>\n",
              "    <tr>\n",
              "      <th>8141</th>\n",
              "      <td>20201002102072</td>\n",
              "      <td>Accident</td>\n",
              "      <td>WPR21LA002</td>\n",
              "      <td>2020</td>\n",
              "      <td>Burlington, WA</td>\n",
              "      <td>United States</td>\n",
              "      <td>Non-Fatal</td>\n",
              "      <td>Substantial</td>\n",
              "      <td>Airplane</td>\n",
              "      <td>ZENITH</td>\n",
              "      <td>Y</td>\n",
              "      <td>1</td>\n",
              "      <td>Flight Test</td>\n",
              "      <td>Stuart C. Ashley</td>\n",
              "      <td>0</td>\n",
              "      <td>1</td>\n",
              "      <td>0</td>\n",
              "    </tr>\n",
              "    <tr>\n",
              "      <th>8142</th>\n",
              "      <td>20201001102067</td>\n",
              "      <td>Incident</td>\n",
              "      <td>ENG20LA046</td>\n",
              "      <td>2020</td>\n",
              "      <td>Donalsonville, GA</td>\n",
              "      <td>United States</td>\n",
              "      <td>Non-Fatal</td>\n",
              "      <td>Minor</td>\n",
              "      <td>Airplane</td>\n",
              "      <td>Thrush</td>\n",
              "      <td>N</td>\n",
              "      <td>1</td>\n",
              "      <td>Aerial Application</td>\n",
              "      <td>Custom Ag and Air Inc.</td>\n",
              "      <td>0</td>\n",
              "      <td>0</td>\n",
              "      <td>0</td>\n",
              "    </tr>\n",
              "    <tr>\n",
              "      <th>8143</th>\n",
              "      <td>20201001102064</td>\n",
              "      <td>Accident</td>\n",
              "      <td>CEN20LA427</td>\n",
              "      <td>2020</td>\n",
              "      <td>Hinckley, IL</td>\n",
              "      <td>United States</td>\n",
              "      <td>Non-Fatal</td>\n",
              "      <td>Substantial</td>\n",
              "      <td>Glider</td>\n",
              "      <td>SCHLEICHER</td>\n",
              "      <td>N</td>\n",
              "      <td>0</td>\n",
              "      <td>Personal</td>\n",
              "      <td>Windy City Soaring Association</td>\n",
              "      <td>0</td>\n",
              "      <td>0</td>\n",
              "      <td>0</td>\n",
              "    </tr>\n",
              "    <tr>\n",
              "      <th>8144</th>\n",
              "      <td>20200930102061</td>\n",
              "      <td>Accident</td>\n",
              "      <td>WPR20LA324</td>\n",
              "      <td>2020</td>\n",
              "      <td>Lake Abert, OR</td>\n",
              "      <td>United States</td>\n",
              "      <td>Non-Fatal</td>\n",
              "      <td>Substantial</td>\n",
              "      <td>Airplane</td>\n",
              "      <td>Pilatus Aircraft</td>\n",
              "      <td>N</td>\n",
              "      <td>1</td>\n",
              "      <td>Personal</td>\n",
              "      <td>Rivers End Ranch LLC</td>\n",
              "      <td>0</td>\n",
              "      <td>0</td>\n",
              "      <td>0</td>\n",
              "    </tr>\n",
              "    <tr>\n",
              "      <th>8145</th>\n",
              "      <td>20200928102048</td>\n",
              "      <td>Accident</td>\n",
              "      <td>CEN20LA421</td>\n",
              "      <td>2020</td>\n",
              "      <td>Lago Vista, TX</td>\n",
              "      <td>United States</td>\n",
              "      <td>Non-Fatal</td>\n",
              "      <td>Substantial</td>\n",
              "      <td>Airplane</td>\n",
              "      <td>BEECH</td>\n",
              "      <td>N</td>\n",
              "      <td>1</td>\n",
              "      <td>Personal</td>\n",
              "      <td>FHLS LLC</td>\n",
              "      <td>0</td>\n",
              "      <td>1</td>\n",
              "      <td>2</td>\n",
              "    </tr>\n",
              "  </tbody>\n",
              "</table>\n",
              "<p>8146 rows × 17 columns</p>\n",
              "</div>\n",
              "      <button class=\"colab-df-convert\" onclick=\"convertToInteractive('df-7d2cb46b-6296-4ea4-a72a-604d17cd0882')\"\n",
              "              title=\"Convert this dataframe to an interactive table.\"\n",
              "              style=\"display:none;\">\n",
              "        \n",
              "  <svg xmlns=\"http://www.w3.org/2000/svg\" height=\"24px\"viewBox=\"0 0 24 24\"\n",
              "       width=\"24px\">\n",
              "    <path d=\"M0 0h24v24H0V0z\" fill=\"none\"/>\n",
              "    <path d=\"M18.56 5.44l.94 2.06.94-2.06 2.06-.94-2.06-.94-.94-2.06-.94 2.06-2.06.94zm-11 1L8.5 8.5l.94-2.06 2.06-.94-2.06-.94L8.5 2.5l-.94 2.06-2.06.94zm10 10l.94 2.06.94-2.06 2.06-.94-2.06-.94-.94-2.06-.94 2.06-2.06.94z\"/><path d=\"M17.41 7.96l-1.37-1.37c-.4-.4-.92-.59-1.43-.59-.52 0-1.04.2-1.43.59L10.3 9.45l-7.72 7.72c-.78.78-.78 2.05 0 2.83L4 21.41c.39.39.9.59 1.41.59.51 0 1.02-.2 1.41-.59l7.78-7.78 2.81-2.81c.8-.78.8-2.07 0-2.86zM5.41 20L4 18.59l7.72-7.72 1.47 1.35L5.41 20z\"/>\n",
              "  </svg>\n",
              "      </button>\n",
              "      \n",
              "  <style>\n",
              "    .colab-df-container {\n",
              "      display:flex;\n",
              "      flex-wrap:wrap;\n",
              "      gap: 12px;\n",
              "    }\n",
              "\n",
              "    .colab-df-convert {\n",
              "      background-color: #E8F0FE;\n",
              "      border: none;\n",
              "      border-radius: 50%;\n",
              "      cursor: pointer;\n",
              "      display: none;\n",
              "      fill: #1967D2;\n",
              "      height: 32px;\n",
              "      padding: 0 0 0 0;\n",
              "      width: 32px;\n",
              "    }\n",
              "\n",
              "    .colab-df-convert:hover {\n",
              "      background-color: #E2EBFA;\n",
              "      box-shadow: 0px 1px 2px rgba(60, 64, 67, 0.3), 0px 1px 3px 1px rgba(60, 64, 67, 0.15);\n",
              "      fill: #174EA6;\n",
              "    }\n",
              "\n",
              "    [theme=dark] .colab-df-convert {\n",
              "      background-color: #3B4455;\n",
              "      fill: #D2E3FC;\n",
              "    }\n",
              "\n",
              "    [theme=dark] .colab-df-convert:hover {\n",
              "      background-color: #434B5C;\n",
              "      box-shadow: 0px 1px 3px 1px rgba(0, 0, 0, 0.15);\n",
              "      filter: drop-shadow(0px 1px 2px rgba(0, 0, 0, 0.3));\n",
              "      fill: #FFFFFF;\n",
              "    }\n",
              "  </style>\n",
              "\n",
              "      <script>\n",
              "        const buttonEl =\n",
              "          document.querySelector('#df-7d2cb46b-6296-4ea4-a72a-604d17cd0882 button.colab-df-convert');\n",
              "        buttonEl.style.display =\n",
              "          google.colab.kernel.accessAllowed ? 'block' : 'none';\n",
              "\n",
              "        async function convertToInteractive(key) {\n",
              "          const element = document.querySelector('#df-7d2cb46b-6296-4ea4-a72a-604d17cd0882');\n",
              "          const dataTable =\n",
              "            await google.colab.kernel.invokeFunction('convertToInteractive',\n",
              "                                                     [key], {});\n",
              "          if (!dataTable) return;\n",
              "\n",
              "          const docLinkHtml = 'Like what you see? Visit the ' +\n",
              "            '<a target=\"_blank\" href=https://colab.research.google.com/notebooks/data_table.ipynb>data table notebook</a>'\n",
              "            + ' to learn more about interactive tables.';\n",
              "          element.innerHTML = '';\n",
              "          dataTable['output_type'] = 'display_data';\n",
              "          await google.colab.output.renderOutput(dataTable, element);\n",
              "          const docLink = document.createElement('div');\n",
              "          docLink.innerHTML = docLinkHtml;\n",
              "          element.appendChild(docLink);\n",
              "        }\n",
              "      </script>\n",
              "    </div>\n",
              "  </div>\n",
              "  "
            ],
            "text/plain": [
              "            Event.Id  ... Total.Minor.Injuries\n",
              "0     20200923X84757  ...                    0\n",
              "1     20200923X30413  ...                    0\n",
              "2     20200922X94309  ...                    0\n",
              "3     20200922X00441  ...                    0\n",
              "4     20200920X32151  ...                    0\n",
              "...              ...  ...                  ...\n",
              "8141  20201002102072  ...                    0\n",
              "8142  20201001102067  ...                    0\n",
              "8143  20201001102064  ...                    0\n",
              "8144  20200930102061  ...                    0\n",
              "8145  20200928102048  ...                    2\n",
              "\n",
              "[8146 rows x 17 columns]"
            ]
          },
          "metadata": {},
          "execution_count": 27
        }
      ],
      "source": [
        "!pip install -q xlrd\n",
        "import pandas as pd\n",
        "df = pd.read_excel('Samoloty.xlsx')\n",
        "df"
      ]
    },
    {
      "cell_type": "markdown",
      "metadata": {
        "id": "X3MZjvnLjJrX"
      },
      "source": [
        "## **Przekształcenia**\n",
        "\n",
        "\n",
        "\n"
      ]
    },
    {
      "cell_type": "code",
      "execution_count": 28,
      "metadata": {
        "id": "rErGf9zFkIHE"
      },
      "outputs": [],
      "source": [
        "# Usuwanie kolumn\n",
        "df = df.drop([\"Event.Id\"], axis=1)\n"
      ]
    },
    {
      "cell_type": "code",
      "execution_count": 29,
      "metadata": {
        "id": "hrVk90z4mKWo"
      },
      "outputs": [],
      "source": [
        "df = df.drop([\"Accident.Number\"], axis=1)"
      ]
    },
    {
      "cell_type": "code",
      "execution_count": 30,
      "metadata": {
        "id": "H7tpOCK7lTJ-",
        "colab": {
          "base_uri": "https://localhost:8080/",
          "height": 375
        },
        "outputId": "0994f49e-375e-4cd1-ccb4-c6173baa68e4"
      },
      "outputs": [
        {
          "output_type": "execute_result",
          "data": {
            "text/html": [
              "\n",
              "  <div id=\"df-6af54e37-f068-4879-9224-c04393c2f0d3\">\n",
              "    <div class=\"colab-df-container\">\n",
              "      <div>\n",
              "<style scoped>\n",
              "    .dataframe tbody tr th:only-of-type {\n",
              "        vertical-align: middle;\n",
              "    }\n",
              "\n",
              "    .dataframe tbody tr th {\n",
              "        vertical-align: top;\n",
              "    }\n",
              "\n",
              "    .dataframe thead th {\n",
              "        text-align: right;\n",
              "    }\n",
              "</style>\n",
              "<table border=\"1\" class=\"dataframe\">\n",
              "  <thead>\n",
              "    <tr style=\"text-align: right;\">\n",
              "      <th></th>\n",
              "      <th>Investigation.Type</th>\n",
              "      <th>Event.Date</th>\n",
              "      <th>Location</th>\n",
              "      <th>Country</th>\n",
              "      <th>Injury.Severity</th>\n",
              "      <th>Aircraft.damage</th>\n",
              "      <th>Aircraft.Category</th>\n",
              "      <th>Make</th>\n",
              "      <th>Amateur.Built</th>\n",
              "      <th>Number.of.Engines</th>\n",
              "      <th>Purpose.of.flight</th>\n",
              "      <th>Air.carrier</th>\n",
              "      <th>Total.Fatal.Injuries</th>\n",
              "      <th>Total.Serious.Injuries</th>\n",
              "      <th>Total.Minor.Injuries</th>\n",
              "    </tr>\n",
              "  </thead>\n",
              "  <tbody>\n",
              "    <tr>\n",
              "      <th>0</th>\n",
              "      <td>Accident</td>\n",
              "      <td>2020</td>\n",
              "      <td>Floral City, FL</td>\n",
              "      <td>United States</td>\n",
              "      <td>Fatal</td>\n",
              "      <td>Destroyed</td>\n",
              "      <td>Airplane</td>\n",
              "      <td>Piper</td>\n",
              "      <td>N</td>\n",
              "      <td>1</td>\n",
              "      <td>Aerial Application</td>\n",
              "      <td>CONSOLIDATED AG PILOT SERVICES LLC.</td>\n",
              "      <td>1</td>\n",
              "      <td>0</td>\n",
              "      <td>0</td>\n",
              "    </tr>\n",
              "    <tr>\n",
              "      <th>1</th>\n",
              "      <td>Accident</td>\n",
              "      <td>2020</td>\n",
              "      <td>Pacific City, OR</td>\n",
              "      <td>United States</td>\n",
              "      <td>Non-Fatal</td>\n",
              "      <td>Substantial</td>\n",
              "      <td>Airplane</td>\n",
              "      <td>Piper</td>\n",
              "      <td>N</td>\n",
              "      <td>1</td>\n",
              "      <td>Personal</td>\n",
              "      <td>Ricardo Byers</td>\n",
              "      <td>0</td>\n",
              "      <td>0</td>\n",
              "      <td>0</td>\n",
              "    </tr>\n",
              "    <tr>\n",
              "      <th>2</th>\n",
              "      <td>Accident</td>\n",
              "      <td>2020</td>\n",
              "      <td>Jackson, TN</td>\n",
              "      <td>United States</td>\n",
              "      <td>Non-Fatal</td>\n",
              "      <td>Substantial</td>\n",
              "      <td>Airplane</td>\n",
              "      <td>Ayres</td>\n",
              "      <td>N</td>\n",
              "      <td>1</td>\n",
              "      <td>Aerial Application</td>\n",
              "      <td>AirWorks LLC</td>\n",
              "      <td>0</td>\n",
              "      <td>0</td>\n",
              "      <td>0</td>\n",
              "    </tr>\n",
              "    <tr>\n",
              "      <th>3</th>\n",
              "      <td>Accident</td>\n",
              "      <td>2020</td>\n",
              "      <td>Lafayette, IN</td>\n",
              "      <td>United States</td>\n",
              "      <td>Non-Fatal</td>\n",
              "      <td>Substantial</td>\n",
              "      <td>Airplane</td>\n",
              "      <td>Cessna</td>\n",
              "      <td>N</td>\n",
              "      <td>1</td>\n",
              "      <td>Instructional</td>\n",
              "      <td>Purdue Aviation Llc</td>\n",
              "      <td>0</td>\n",
              "      <td>0</td>\n",
              "      <td>0</td>\n",
              "    </tr>\n",
              "    <tr>\n",
              "      <th>4</th>\n",
              "      <td>Accident</td>\n",
              "      <td>2020</td>\n",
              "      <td>Somerton, AZ</td>\n",
              "      <td>United States</td>\n",
              "      <td>Non-Fatal</td>\n",
              "      <td>Destroyed</td>\n",
              "      <td>Airplane</td>\n",
              "      <td>Air Tractor</td>\n",
              "      <td>N</td>\n",
              "      <td>1</td>\n",
              "      <td>Aerial Application</td>\n",
              "      <td>Tri-Rotor Spray &amp; Chemical</td>\n",
              "      <td>0</td>\n",
              "      <td>0</td>\n",
              "      <td>0</td>\n",
              "    </tr>\n",
              "  </tbody>\n",
              "</table>\n",
              "</div>\n",
              "      <button class=\"colab-df-convert\" onclick=\"convertToInteractive('df-6af54e37-f068-4879-9224-c04393c2f0d3')\"\n",
              "              title=\"Convert this dataframe to an interactive table.\"\n",
              "              style=\"display:none;\">\n",
              "        \n",
              "  <svg xmlns=\"http://www.w3.org/2000/svg\" height=\"24px\"viewBox=\"0 0 24 24\"\n",
              "       width=\"24px\">\n",
              "    <path d=\"M0 0h24v24H0V0z\" fill=\"none\"/>\n",
              "    <path d=\"M18.56 5.44l.94 2.06.94-2.06 2.06-.94-2.06-.94-.94-2.06-.94 2.06-2.06.94zm-11 1L8.5 8.5l.94-2.06 2.06-.94-2.06-.94L8.5 2.5l-.94 2.06-2.06.94zm10 10l.94 2.06.94-2.06 2.06-.94-2.06-.94-.94-2.06-.94 2.06-2.06.94z\"/><path d=\"M17.41 7.96l-1.37-1.37c-.4-.4-.92-.59-1.43-.59-.52 0-1.04.2-1.43.59L10.3 9.45l-7.72 7.72c-.78.78-.78 2.05 0 2.83L4 21.41c.39.39.9.59 1.41.59.51 0 1.02-.2 1.41-.59l7.78-7.78 2.81-2.81c.8-.78.8-2.07 0-2.86zM5.41 20L4 18.59l7.72-7.72 1.47 1.35L5.41 20z\"/>\n",
              "  </svg>\n",
              "      </button>\n",
              "      \n",
              "  <style>\n",
              "    .colab-df-container {\n",
              "      display:flex;\n",
              "      flex-wrap:wrap;\n",
              "      gap: 12px;\n",
              "    }\n",
              "\n",
              "    .colab-df-convert {\n",
              "      background-color: #E8F0FE;\n",
              "      border: none;\n",
              "      border-radius: 50%;\n",
              "      cursor: pointer;\n",
              "      display: none;\n",
              "      fill: #1967D2;\n",
              "      height: 32px;\n",
              "      padding: 0 0 0 0;\n",
              "      width: 32px;\n",
              "    }\n",
              "\n",
              "    .colab-df-convert:hover {\n",
              "      background-color: #E2EBFA;\n",
              "      box-shadow: 0px 1px 2px rgba(60, 64, 67, 0.3), 0px 1px 3px 1px rgba(60, 64, 67, 0.15);\n",
              "      fill: #174EA6;\n",
              "    }\n",
              "\n",
              "    [theme=dark] .colab-df-convert {\n",
              "      background-color: #3B4455;\n",
              "      fill: #D2E3FC;\n",
              "    }\n",
              "\n",
              "    [theme=dark] .colab-df-convert:hover {\n",
              "      background-color: #434B5C;\n",
              "      box-shadow: 0px 1px 3px 1px rgba(0, 0, 0, 0.15);\n",
              "      filter: drop-shadow(0px 1px 2px rgba(0, 0, 0, 0.3));\n",
              "      fill: #FFFFFF;\n",
              "    }\n",
              "  </style>\n",
              "\n",
              "      <script>\n",
              "        const buttonEl =\n",
              "          document.querySelector('#df-6af54e37-f068-4879-9224-c04393c2f0d3 button.colab-df-convert');\n",
              "        buttonEl.style.display =\n",
              "          google.colab.kernel.accessAllowed ? 'block' : 'none';\n",
              "\n",
              "        async function convertToInteractive(key) {\n",
              "          const element = document.querySelector('#df-6af54e37-f068-4879-9224-c04393c2f0d3');\n",
              "          const dataTable =\n",
              "            await google.colab.kernel.invokeFunction('convertToInteractive',\n",
              "                                                     [key], {});\n",
              "          if (!dataTable) return;\n",
              "\n",
              "          const docLinkHtml = 'Like what you see? Visit the ' +\n",
              "            '<a target=\"_blank\" href=https://colab.research.google.com/notebooks/data_table.ipynb>data table notebook</a>'\n",
              "            + ' to learn more about interactive tables.';\n",
              "          element.innerHTML = '';\n",
              "          dataTable['output_type'] = 'display_data';\n",
              "          await google.colab.output.renderOutput(dataTable, element);\n",
              "          const docLink = document.createElement('div');\n",
              "          docLink.innerHTML = docLinkHtml;\n",
              "          element.appendChild(docLink);\n",
              "        }\n",
              "      </script>\n",
              "    </div>\n",
              "  </div>\n",
              "  "
            ],
            "text/plain": [
              "  Investigation.Type  Event.Date  ... Total.Serious.Injuries Total.Minor.Injuries\n",
              "0           Accident        2020  ...                      0                    0\n",
              "1           Accident        2020  ...                      0                    0\n",
              "2           Accident        2020  ...                      0                    0\n",
              "3           Accident        2020  ...                      0                    0\n",
              "4           Accident        2020  ...                      0                    0\n",
              "\n",
              "[5 rows x 15 columns]"
            ]
          },
          "metadata": {},
          "execution_count": 30
        }
      ],
      "source": [
        "df.head()"
      ]
    },
    {
      "cell_type": "code",
      "execution_count": 31,
      "metadata": {
        "id": "fvET2utwoD4q",
        "colab": {
          "base_uri": "https://localhost:8080/"
        },
        "outputId": "42c1cf34-25b1-41fd-f87c-7b2e240e8ee2"
      },
      "outputs": [
        {
          "output_type": "execute_result",
          "data": {
            "text/plain": [
              "(8146, 15)"
            ]
          },
          "metadata": {},
          "execution_count": 31
        }
      ],
      "source": [
        "#liczenie wierszy i kolumn\n",
        "df.shape"
      ]
    },
    {
      "cell_type": "code",
      "execution_count": 32,
      "metadata": {
        "id": "YcP1gmoalpwL",
        "colab": {
          "base_uri": "https://localhost:8080/",
          "height": 355
        },
        "outputId": "2bfa4034-9a0c-45a6-d56d-74437ce5df05"
      },
      "outputs": [
        {
          "output_type": "execute_result",
          "data": {
            "text/html": [
              "\n",
              "  <div id=\"df-f62d6bc9-aef3-4a90-833e-6977427067d5\">\n",
              "    <div class=\"colab-df-container\">\n",
              "      <div>\n",
              "<style scoped>\n",
              "    .dataframe tbody tr th:only-of-type {\n",
              "        vertical-align: middle;\n",
              "    }\n",
              "\n",
              "    .dataframe tbody tr th {\n",
              "        vertical-align: top;\n",
              "    }\n",
              "\n",
              "    .dataframe thead th {\n",
              "        text-align: right;\n",
              "    }\n",
              "</style>\n",
              "<table border=\"1\" class=\"dataframe\">\n",
              "  <thead>\n",
              "    <tr style=\"text-align: right;\">\n",
              "      <th></th>\n",
              "      <th>Typ zdarzenia</th>\n",
              "      <th>Data</th>\n",
              "      <th>Lokalizacja</th>\n",
              "      <th>Kraj</th>\n",
              "      <th>Skala</th>\n",
              "      <th>Stan Maszyny</th>\n",
              "      <th>Typ Maszyny</th>\n",
              "      <th>Make</th>\n",
              "      <th>Amatorska Budowa</th>\n",
              "      <th>Liczba_Silnikow</th>\n",
              "      <th>Cel Lotu</th>\n",
              "      <th>Linia Lotnicza</th>\n",
              "      <th>Ilosc_ofiar_smiertelnych</th>\n",
              "      <th>Ilość ciężko rannych</th>\n",
              "      <th>Ilość lekko rannych</th>\n",
              "    </tr>\n",
              "  </thead>\n",
              "  <tbody>\n",
              "    <tr>\n",
              "      <th>0</th>\n",
              "      <td>Accident</td>\n",
              "      <td>2020</td>\n",
              "      <td>Floral City, FL</td>\n",
              "      <td>United States</td>\n",
              "      <td>Fatal</td>\n",
              "      <td>Destroyed</td>\n",
              "      <td>Airplane</td>\n",
              "      <td>Piper</td>\n",
              "      <td>N</td>\n",
              "      <td>1</td>\n",
              "      <td>Aerial Application</td>\n",
              "      <td>CONSOLIDATED AG PILOT SERVICES LLC.</td>\n",
              "      <td>1</td>\n",
              "      <td>0</td>\n",
              "      <td>0</td>\n",
              "    </tr>\n",
              "    <tr>\n",
              "      <th>1</th>\n",
              "      <td>Accident</td>\n",
              "      <td>2020</td>\n",
              "      <td>Pacific City, OR</td>\n",
              "      <td>United States</td>\n",
              "      <td>Non-Fatal</td>\n",
              "      <td>Substantial</td>\n",
              "      <td>Airplane</td>\n",
              "      <td>Piper</td>\n",
              "      <td>N</td>\n",
              "      <td>1</td>\n",
              "      <td>Personal</td>\n",
              "      <td>Ricardo Byers</td>\n",
              "      <td>0</td>\n",
              "      <td>0</td>\n",
              "      <td>0</td>\n",
              "    </tr>\n",
              "    <tr>\n",
              "      <th>2</th>\n",
              "      <td>Accident</td>\n",
              "      <td>2020</td>\n",
              "      <td>Jackson, TN</td>\n",
              "      <td>United States</td>\n",
              "      <td>Non-Fatal</td>\n",
              "      <td>Substantial</td>\n",
              "      <td>Airplane</td>\n",
              "      <td>Ayres</td>\n",
              "      <td>N</td>\n",
              "      <td>1</td>\n",
              "      <td>Aerial Application</td>\n",
              "      <td>AirWorks LLC</td>\n",
              "      <td>0</td>\n",
              "      <td>0</td>\n",
              "      <td>0</td>\n",
              "    </tr>\n",
              "    <tr>\n",
              "      <th>3</th>\n",
              "      <td>Accident</td>\n",
              "      <td>2020</td>\n",
              "      <td>Lafayette, IN</td>\n",
              "      <td>United States</td>\n",
              "      <td>Non-Fatal</td>\n",
              "      <td>Substantial</td>\n",
              "      <td>Airplane</td>\n",
              "      <td>Cessna</td>\n",
              "      <td>N</td>\n",
              "      <td>1</td>\n",
              "      <td>Instructional</td>\n",
              "      <td>Purdue Aviation Llc</td>\n",
              "      <td>0</td>\n",
              "      <td>0</td>\n",
              "      <td>0</td>\n",
              "    </tr>\n",
              "    <tr>\n",
              "      <th>4</th>\n",
              "      <td>Accident</td>\n",
              "      <td>2020</td>\n",
              "      <td>Somerton, AZ</td>\n",
              "      <td>United States</td>\n",
              "      <td>Non-Fatal</td>\n",
              "      <td>Destroyed</td>\n",
              "      <td>Airplane</td>\n",
              "      <td>Air Tractor</td>\n",
              "      <td>N</td>\n",
              "      <td>1</td>\n",
              "      <td>Aerial Application</td>\n",
              "      <td>Tri-Rotor Spray &amp; Chemical</td>\n",
              "      <td>0</td>\n",
              "      <td>0</td>\n",
              "      <td>0</td>\n",
              "    </tr>\n",
              "  </tbody>\n",
              "</table>\n",
              "</div>\n",
              "      <button class=\"colab-df-convert\" onclick=\"convertToInteractive('df-f62d6bc9-aef3-4a90-833e-6977427067d5')\"\n",
              "              title=\"Convert this dataframe to an interactive table.\"\n",
              "              style=\"display:none;\">\n",
              "        \n",
              "  <svg xmlns=\"http://www.w3.org/2000/svg\" height=\"24px\"viewBox=\"0 0 24 24\"\n",
              "       width=\"24px\">\n",
              "    <path d=\"M0 0h24v24H0V0z\" fill=\"none\"/>\n",
              "    <path d=\"M18.56 5.44l.94 2.06.94-2.06 2.06-.94-2.06-.94-.94-2.06-.94 2.06-2.06.94zm-11 1L8.5 8.5l.94-2.06 2.06-.94-2.06-.94L8.5 2.5l-.94 2.06-2.06.94zm10 10l.94 2.06.94-2.06 2.06-.94-2.06-.94-.94-2.06-.94 2.06-2.06.94z\"/><path d=\"M17.41 7.96l-1.37-1.37c-.4-.4-.92-.59-1.43-.59-.52 0-1.04.2-1.43.59L10.3 9.45l-7.72 7.72c-.78.78-.78 2.05 0 2.83L4 21.41c.39.39.9.59 1.41.59.51 0 1.02-.2 1.41-.59l7.78-7.78 2.81-2.81c.8-.78.8-2.07 0-2.86zM5.41 20L4 18.59l7.72-7.72 1.47 1.35L5.41 20z\"/>\n",
              "  </svg>\n",
              "      </button>\n",
              "      \n",
              "  <style>\n",
              "    .colab-df-container {\n",
              "      display:flex;\n",
              "      flex-wrap:wrap;\n",
              "      gap: 12px;\n",
              "    }\n",
              "\n",
              "    .colab-df-convert {\n",
              "      background-color: #E8F0FE;\n",
              "      border: none;\n",
              "      border-radius: 50%;\n",
              "      cursor: pointer;\n",
              "      display: none;\n",
              "      fill: #1967D2;\n",
              "      height: 32px;\n",
              "      padding: 0 0 0 0;\n",
              "      width: 32px;\n",
              "    }\n",
              "\n",
              "    .colab-df-convert:hover {\n",
              "      background-color: #E2EBFA;\n",
              "      box-shadow: 0px 1px 2px rgba(60, 64, 67, 0.3), 0px 1px 3px 1px rgba(60, 64, 67, 0.15);\n",
              "      fill: #174EA6;\n",
              "    }\n",
              "\n",
              "    [theme=dark] .colab-df-convert {\n",
              "      background-color: #3B4455;\n",
              "      fill: #D2E3FC;\n",
              "    }\n",
              "\n",
              "    [theme=dark] .colab-df-convert:hover {\n",
              "      background-color: #434B5C;\n",
              "      box-shadow: 0px 1px 3px 1px rgba(0, 0, 0, 0.15);\n",
              "      filter: drop-shadow(0px 1px 2px rgba(0, 0, 0, 0.3));\n",
              "      fill: #FFFFFF;\n",
              "    }\n",
              "  </style>\n",
              "\n",
              "      <script>\n",
              "        const buttonEl =\n",
              "          document.querySelector('#df-f62d6bc9-aef3-4a90-833e-6977427067d5 button.colab-df-convert');\n",
              "        buttonEl.style.display =\n",
              "          google.colab.kernel.accessAllowed ? 'block' : 'none';\n",
              "\n",
              "        async function convertToInteractive(key) {\n",
              "          const element = document.querySelector('#df-f62d6bc9-aef3-4a90-833e-6977427067d5');\n",
              "          const dataTable =\n",
              "            await google.colab.kernel.invokeFunction('convertToInteractive',\n",
              "                                                     [key], {});\n",
              "          if (!dataTable) return;\n",
              "\n",
              "          const docLinkHtml = 'Like what you see? Visit the ' +\n",
              "            '<a target=\"_blank\" href=https://colab.research.google.com/notebooks/data_table.ipynb>data table notebook</a>'\n",
              "            + ' to learn more about interactive tables.';\n",
              "          element.innerHTML = '';\n",
              "          dataTable['output_type'] = 'display_data';\n",
              "          await google.colab.output.renderOutput(dataTable, element);\n",
              "          const docLink = document.createElement('div');\n",
              "          docLink.innerHTML = docLinkHtml;\n",
              "          element.appendChild(docLink);\n",
              "        }\n",
              "      </script>\n",
              "    </div>\n",
              "  </div>\n",
              "  "
            ],
            "text/plain": [
              "  Typ zdarzenia  Data  ... Ilość ciężko rannych Ilość lekko rannych\n",
              "0      Accident  2020  ...                    0                   0\n",
              "1      Accident  2020  ...                    0                   0\n",
              "2      Accident  2020  ...                    0                   0\n",
              "3      Accident  2020  ...                    0                   0\n",
              "4      Accident  2020  ...                    0                   0\n",
              "\n",
              "[5 rows x 15 columns]"
            ]
          },
          "metadata": {},
          "execution_count": 32
        }
      ],
      "source": [
        "# Zmiana nazw kolumn (wcześniej robiliśmy to za pomocą df.columns i zmienialiśmy wszystkie)\n",
        "df = df.rename({\n",
        "    # old name     new name \n",
        "    \"Investigation.Type\": \"Typ zdarzenia\",\n",
        "            \"Event.Date\": \"Data\",\n",
        "                \"Location\": \"Lokalizacja\",\n",
        "                    \"Country\": \"Kraj\",\n",
        "                    \"Injury.Severity\": \"Skala\",\n",
        "                    \"Aircraft.damage\": \"Stan Maszyny\",\n",
        "                    \"Aircraft.Category\": \"Typ Maszyny\",\n",
        "                    \"Amateur.Built\": \"Amatorska Budowa\",\n",
        "                    \"Number.of.Engines\": \"Liczba_Silnikow\",\n",
        "                    \"Purpose.of.flight\": \"Cel Lotu\",\n",
        "                    \"Air.carrier\": \"Linia Lotnicza\",\n",
        "                    \"Total.Fatal.Injuries\": \"Ilosc_ofiar_smiertelnych\",\n",
        "                    \"Total.Serious.Injuries\": \"Ilość ciężko rannych\",\n",
        "                    \"Total.Minor.Injuries\": \"Ilość lekko rannych\",\n",
        "}, axis=1)\n",
        "df.head()"
      ]
    },
    {
      "cell_type": "code",
      "execution_count": 33,
      "metadata": {
        "id": "__9vWYonoMXX",
        "colab": {
          "base_uri": "https://localhost:8080/"
        },
        "outputId": "64479a9b-22eb-483e-a3a0-9cb77cdbd0ff"
      },
      "outputs": [
        {
          "output_type": "execute_result",
          "data": {
            "text/plain": [
              "(8146, 15)"
            ]
          },
          "metadata": {},
          "execution_count": 33
        }
      ],
      "source": [
        "#Sprawdzenie\n",
        "df.shape"
      ]
    },
    {
      "cell_type": "code",
      "source": [
        "# Typy danych. czy wszystkie typy są ok?\n",
        "df.dtypes"
      ],
      "metadata": {
        "colab": {
          "base_uri": "https://localhost:8080/"
        },
        "id": "HtILg2l9Jl0k",
        "outputId": "129d1a1c-4849-417d-93a0-916660a8b4ea"
      },
      "execution_count": 16,
      "outputs": [
        {
          "output_type": "execute_result",
          "data": {
            "text/plain": [
              "Typ zdarzenia               object\n",
              "Data                         int64\n",
              "Lokalizacja                 object\n",
              "Kraj                        object\n",
              "Skala                       object\n",
              "Stan Maszyny                object\n",
              "Typ Maszyny                 object\n",
              "Make                        object\n",
              "Amatorska Budowa            object\n",
              "Liczba_Silnikow              int64\n",
              "Cel Lotu                    object\n",
              "Linia Lotnicza              object\n",
              "Ilosc_ofiar_smiertelnych     int64\n",
              "Ilość ciężko rannych         int64\n",
              "Ilość lekko rannych          int64\n",
              "dtype: object"
            ]
          },
          "metadata": {},
          "execution_count": 16
        }
      ]
    },
    {
      "cell_type": "markdown",
      "source": [
        "\n",
        "## **Dane po optymalizacji zmiennych** "
      ],
      "metadata": {
        "id": "_lZJ5dkF8k1A"
      }
    },
    {
      "cell_type": "code",
      "source": [
        "df.head()"
      ],
      "metadata": {
        "colab": {
          "base_uri": "https://localhost:8080/",
          "height": 355
        },
        "id": "a4uMXc-D8-iX",
        "outputId": "c49ef1d3-d664-4fe0-bf6c-81aa7c45b5f9"
      },
      "execution_count": 34,
      "outputs": [
        {
          "output_type": "execute_result",
          "data": {
            "text/html": [
              "\n",
              "  <div id=\"df-89881e26-757c-4fca-8ee1-18e2c7d763a4\">\n",
              "    <div class=\"colab-df-container\">\n",
              "      <div>\n",
              "<style scoped>\n",
              "    .dataframe tbody tr th:only-of-type {\n",
              "        vertical-align: middle;\n",
              "    }\n",
              "\n",
              "    .dataframe tbody tr th {\n",
              "        vertical-align: top;\n",
              "    }\n",
              "\n",
              "    .dataframe thead th {\n",
              "        text-align: right;\n",
              "    }\n",
              "</style>\n",
              "<table border=\"1\" class=\"dataframe\">\n",
              "  <thead>\n",
              "    <tr style=\"text-align: right;\">\n",
              "      <th></th>\n",
              "      <th>Typ zdarzenia</th>\n",
              "      <th>Data</th>\n",
              "      <th>Lokalizacja</th>\n",
              "      <th>Kraj</th>\n",
              "      <th>Skala</th>\n",
              "      <th>Stan Maszyny</th>\n",
              "      <th>Typ Maszyny</th>\n",
              "      <th>Make</th>\n",
              "      <th>Amatorska Budowa</th>\n",
              "      <th>Liczba_Silnikow</th>\n",
              "      <th>Cel Lotu</th>\n",
              "      <th>Linia Lotnicza</th>\n",
              "      <th>Ilosc_ofiar_smiertelnych</th>\n",
              "      <th>Ilość ciężko rannych</th>\n",
              "      <th>Ilość lekko rannych</th>\n",
              "    </tr>\n",
              "  </thead>\n",
              "  <tbody>\n",
              "    <tr>\n",
              "      <th>0</th>\n",
              "      <td>Accident</td>\n",
              "      <td>2020</td>\n",
              "      <td>Floral City, FL</td>\n",
              "      <td>United States</td>\n",
              "      <td>Fatal</td>\n",
              "      <td>Destroyed</td>\n",
              "      <td>Airplane</td>\n",
              "      <td>Piper</td>\n",
              "      <td>N</td>\n",
              "      <td>1</td>\n",
              "      <td>Aerial Application</td>\n",
              "      <td>CONSOLIDATED AG PILOT SERVICES LLC.</td>\n",
              "      <td>1</td>\n",
              "      <td>0</td>\n",
              "      <td>0</td>\n",
              "    </tr>\n",
              "    <tr>\n",
              "      <th>1</th>\n",
              "      <td>Accident</td>\n",
              "      <td>2020</td>\n",
              "      <td>Pacific City, OR</td>\n",
              "      <td>United States</td>\n",
              "      <td>Non-Fatal</td>\n",
              "      <td>Substantial</td>\n",
              "      <td>Airplane</td>\n",
              "      <td>Piper</td>\n",
              "      <td>N</td>\n",
              "      <td>1</td>\n",
              "      <td>Personal</td>\n",
              "      <td>Ricardo Byers</td>\n",
              "      <td>0</td>\n",
              "      <td>0</td>\n",
              "      <td>0</td>\n",
              "    </tr>\n",
              "    <tr>\n",
              "      <th>2</th>\n",
              "      <td>Accident</td>\n",
              "      <td>2020</td>\n",
              "      <td>Jackson, TN</td>\n",
              "      <td>United States</td>\n",
              "      <td>Non-Fatal</td>\n",
              "      <td>Substantial</td>\n",
              "      <td>Airplane</td>\n",
              "      <td>Ayres</td>\n",
              "      <td>N</td>\n",
              "      <td>1</td>\n",
              "      <td>Aerial Application</td>\n",
              "      <td>AirWorks LLC</td>\n",
              "      <td>0</td>\n",
              "      <td>0</td>\n",
              "      <td>0</td>\n",
              "    </tr>\n",
              "    <tr>\n",
              "      <th>3</th>\n",
              "      <td>Accident</td>\n",
              "      <td>2020</td>\n",
              "      <td>Lafayette, IN</td>\n",
              "      <td>United States</td>\n",
              "      <td>Non-Fatal</td>\n",
              "      <td>Substantial</td>\n",
              "      <td>Airplane</td>\n",
              "      <td>Cessna</td>\n",
              "      <td>N</td>\n",
              "      <td>1</td>\n",
              "      <td>Instructional</td>\n",
              "      <td>Purdue Aviation Llc</td>\n",
              "      <td>0</td>\n",
              "      <td>0</td>\n",
              "      <td>0</td>\n",
              "    </tr>\n",
              "    <tr>\n",
              "      <th>4</th>\n",
              "      <td>Accident</td>\n",
              "      <td>2020</td>\n",
              "      <td>Somerton, AZ</td>\n",
              "      <td>United States</td>\n",
              "      <td>Non-Fatal</td>\n",
              "      <td>Destroyed</td>\n",
              "      <td>Airplane</td>\n",
              "      <td>Air Tractor</td>\n",
              "      <td>N</td>\n",
              "      <td>1</td>\n",
              "      <td>Aerial Application</td>\n",
              "      <td>Tri-Rotor Spray &amp; Chemical</td>\n",
              "      <td>0</td>\n",
              "      <td>0</td>\n",
              "      <td>0</td>\n",
              "    </tr>\n",
              "  </tbody>\n",
              "</table>\n",
              "</div>\n",
              "      <button class=\"colab-df-convert\" onclick=\"convertToInteractive('df-89881e26-757c-4fca-8ee1-18e2c7d763a4')\"\n",
              "              title=\"Convert this dataframe to an interactive table.\"\n",
              "              style=\"display:none;\">\n",
              "        \n",
              "  <svg xmlns=\"http://www.w3.org/2000/svg\" height=\"24px\"viewBox=\"0 0 24 24\"\n",
              "       width=\"24px\">\n",
              "    <path d=\"M0 0h24v24H0V0z\" fill=\"none\"/>\n",
              "    <path d=\"M18.56 5.44l.94 2.06.94-2.06 2.06-.94-2.06-.94-.94-2.06-.94 2.06-2.06.94zm-11 1L8.5 8.5l.94-2.06 2.06-.94-2.06-.94L8.5 2.5l-.94 2.06-2.06.94zm10 10l.94 2.06.94-2.06 2.06-.94-2.06-.94-.94-2.06-.94 2.06-2.06.94z\"/><path d=\"M17.41 7.96l-1.37-1.37c-.4-.4-.92-.59-1.43-.59-.52 0-1.04.2-1.43.59L10.3 9.45l-7.72 7.72c-.78.78-.78 2.05 0 2.83L4 21.41c.39.39.9.59 1.41.59.51 0 1.02-.2 1.41-.59l7.78-7.78 2.81-2.81c.8-.78.8-2.07 0-2.86zM5.41 20L4 18.59l7.72-7.72 1.47 1.35L5.41 20z\"/>\n",
              "  </svg>\n",
              "      </button>\n",
              "      \n",
              "  <style>\n",
              "    .colab-df-container {\n",
              "      display:flex;\n",
              "      flex-wrap:wrap;\n",
              "      gap: 12px;\n",
              "    }\n",
              "\n",
              "    .colab-df-convert {\n",
              "      background-color: #E8F0FE;\n",
              "      border: none;\n",
              "      border-radius: 50%;\n",
              "      cursor: pointer;\n",
              "      display: none;\n",
              "      fill: #1967D2;\n",
              "      height: 32px;\n",
              "      padding: 0 0 0 0;\n",
              "      width: 32px;\n",
              "    }\n",
              "\n",
              "    .colab-df-convert:hover {\n",
              "      background-color: #E2EBFA;\n",
              "      box-shadow: 0px 1px 2px rgba(60, 64, 67, 0.3), 0px 1px 3px 1px rgba(60, 64, 67, 0.15);\n",
              "      fill: #174EA6;\n",
              "    }\n",
              "\n",
              "    [theme=dark] .colab-df-convert {\n",
              "      background-color: #3B4455;\n",
              "      fill: #D2E3FC;\n",
              "    }\n",
              "\n",
              "    [theme=dark] .colab-df-convert:hover {\n",
              "      background-color: #434B5C;\n",
              "      box-shadow: 0px 1px 3px 1px rgba(0, 0, 0, 0.15);\n",
              "      filter: drop-shadow(0px 1px 2px rgba(0, 0, 0, 0.3));\n",
              "      fill: #FFFFFF;\n",
              "    }\n",
              "  </style>\n",
              "\n",
              "      <script>\n",
              "        const buttonEl =\n",
              "          document.querySelector('#df-89881e26-757c-4fca-8ee1-18e2c7d763a4 button.colab-df-convert');\n",
              "        buttonEl.style.display =\n",
              "          google.colab.kernel.accessAllowed ? 'block' : 'none';\n",
              "\n",
              "        async function convertToInteractive(key) {\n",
              "          const element = document.querySelector('#df-89881e26-757c-4fca-8ee1-18e2c7d763a4');\n",
              "          const dataTable =\n",
              "            await google.colab.kernel.invokeFunction('convertToInteractive',\n",
              "                                                     [key], {});\n",
              "          if (!dataTable) return;\n",
              "\n",
              "          const docLinkHtml = 'Like what you see? Visit the ' +\n",
              "            '<a target=\"_blank\" href=https://colab.research.google.com/notebooks/data_table.ipynb>data table notebook</a>'\n",
              "            + ' to learn more about interactive tables.';\n",
              "          element.innerHTML = '';\n",
              "          dataTable['output_type'] = 'display_data';\n",
              "          await google.colab.output.renderOutput(dataTable, element);\n",
              "          const docLink = document.createElement('div');\n",
              "          docLink.innerHTML = docLinkHtml;\n",
              "          element.appendChild(docLink);\n",
              "        }\n",
              "      </script>\n",
              "    </div>\n",
              "  </div>\n",
              "  "
            ],
            "text/plain": [
              "  Typ zdarzenia  Data  ... Ilość ciężko rannych Ilość lekko rannych\n",
              "0      Accident  2020  ...                    0                   0\n",
              "1      Accident  2020  ...                    0                   0\n",
              "2      Accident  2020  ...                    0                   0\n",
              "3      Accident  2020  ...                    0                   0\n",
              "4      Accident  2020  ...                    0                   0\n",
              "\n",
              "[5 rows x 15 columns]"
            ]
          },
          "metadata": {},
          "execution_count": 34
        }
      ]
    },
    {
      "cell_type": "code",
      "source": [
        "df.shape"
      ],
      "metadata": {
        "colab": {
          "base_uri": "https://localhost:8080/"
        },
        "id": "kCDSKUd_9DeX",
        "outputId": "8de500af-9429-4a68-e2c6-1eeeaa3012a1"
      },
      "execution_count": 35,
      "outputs": [
        {
          "output_type": "execute_result",
          "data": {
            "text/plain": [
              "(8146, 15)"
            ]
          },
          "metadata": {},
          "execution_count": 35
        }
      ]
    },
    {
      "cell_type": "markdown",
      "source": [
        "**Wczytany zbiór ma 8146 wierszy oraz 15 kolumn**"
      ],
      "metadata": {
        "id": "fAjpgsG3USOQ"
      }
    },
    {
      "cell_type": "markdown",
      "metadata": {
        "id": "Oc6P9Y2W3pry"
      },
      "source": [
        "# **WIZUALIZACJA**"
      ]
    },
    {
      "cell_type": "markdown",
      "source": [
        "## **Podstawowe statystyki**"
      ],
      "metadata": {
        "id": "L4HG8FEnfoxB"
      }
    },
    {
      "cell_type": "code",
      "source": [
        "df.Lokalizacja.value_counts()"
      ],
      "metadata": {
        "colab": {
          "base_uri": "https://localhost:8080/"
        },
        "id": "qTb3hLlufEZB",
        "outputId": "f96e1060-ee3c-4a62-9028-7250a43ad1f1"
      },
      "execution_count": 19,
      "outputs": [
        {
          "output_type": "execute_result",
          "data": {
            "text/plain": [
              "Anchorage, AK       30\n",
              "Phoenix, AZ         29\n",
              "Palmer, AK          28\n",
              "Fairbanks, AK       27\n",
              "Talkeetna, AK       26\n",
              "                    ..\n",
              "Tribune, KS          1\n",
              "Piranhas, Brazil     1\n",
              "Holton, KS           1\n",
              "Hanley Falls, MN     1\n",
              "Lago Vista, TX       1\n",
              "Name: Lokalizacja, Length: 4542, dtype: int64"
            ]
          },
          "metadata": {},
          "execution_count": 19
        }
      ]
    },
    {
      "cell_type": "markdown",
      "source": [
        "**Wniosek:** Najwięcej wypadków miały miejsce w Anchorage, na drugim miejscu jest Phoenix, a podium zamyka Palmer."
      ],
      "metadata": {
        "id": "CevJk5NifR3y"
      }
    },
    {
      "cell_type": "code",
      "source": [
        "\n",
        "from seaborn.external.husl import f\n",
        "f, axes = plt.subplots(2, 3, figsize=(15, 10))\n",
        "sns.boxplot(x=\"Data\", data=df, ax=axes[0, 0])\n",
        "sns.boxplot(x=\"Liczba_Silnikow\", data=df, ax=axes[0, 1])\n",
        "sns.boxplot(x=\"Ilosc_ofiar_smiertelnych\", data=df, ax=axes[1, 0])\n",
        "sns.boxplot(x=\"Ilość ciężko rannych\", data=df,ax=axes[1, 1])\n",
        "sns.boxplot(x=\"Ilość lekko rannych\", data=df, ax=axes[1, 2])\n",
        "nazwa_kol = ['Data','Liczba_Silnikow','Ilosc_ofiar_smiertelnych','Ilość ciężko rannych', 'Ilość lekko rannych']\n",
        "Q1 = df[nazwa_kol].quantile(0.10)\n",
        "Q3 = df[nazwa_kol].quantile(0.90)\n",
        "IQR = Q3 - Q1\n",
        "df = df[~((df[nazwa_kol] < (Q1 - 1.5 * IQR)) |(df[nazwa_kol] > (Q3 + 1.5 * IQR))).any(axis=1)]\n",
        "df.describe()"
      ],
      "metadata": {
        "colab": {
          "base_uri": "https://localhost:8080/",
          "height": 907
        },
        "id": "z9lGfzmoVzFW",
        "outputId": "fa05943e-443e-4590-86ec-106fc9044117"
      },
      "execution_count": 20,
      "outputs": [
        {
          "output_type": "execute_result",
          "data": {
            "text/html": [
              "\n",
              "  <div id=\"df-12fe6f44-de9a-4cb4-888b-b949fa74d5c3\">\n",
              "    <div class=\"colab-df-container\">\n",
              "      <div>\n",
              "<style scoped>\n",
              "    .dataframe tbody tr th:only-of-type {\n",
              "        vertical-align: middle;\n",
              "    }\n",
              "\n",
              "    .dataframe tbody tr th {\n",
              "        vertical-align: top;\n",
              "    }\n",
              "\n",
              "    .dataframe thead th {\n",
              "        text-align: right;\n",
              "    }\n",
              "</style>\n",
              "<table border=\"1\" class=\"dataframe\">\n",
              "  <thead>\n",
              "    <tr style=\"text-align: right;\">\n",
              "      <th></th>\n",
              "      <th>Data</th>\n",
              "      <th>Liczba_Silnikow</th>\n",
              "      <th>Ilosc_ofiar_smiertelnych</th>\n",
              "      <th>Ilość ciężko rannych</th>\n",
              "      <th>Ilość lekko rannych</th>\n",
              "    </tr>\n",
              "  </thead>\n",
              "  <tbody>\n",
              "    <tr>\n",
              "      <th>count</th>\n",
              "      <td>7530.000000</td>\n",
              "      <td>7530.000000</td>\n",
              "      <td>7530.00000</td>\n",
              "      <td>7530.000000</td>\n",
              "      <td>7530.000000</td>\n",
              "    </tr>\n",
              "    <tr>\n",
              "      <th>mean</th>\n",
              "      <td>2012.347410</td>\n",
              "      <td>1.069588</td>\n",
              "      <td>0.20332</td>\n",
              "      <td>0.208632</td>\n",
              "      <td>0.130943</td>\n",
              "    </tr>\n",
              "    <tr>\n",
              "      <th>std</th>\n",
              "      <td>3.578933</td>\n",
              "      <td>0.313409</td>\n",
              "      <td>0.51485</td>\n",
              "      <td>0.498269</td>\n",
              "      <td>0.393683</td>\n",
              "    </tr>\n",
              "    <tr>\n",
              "      <th>min</th>\n",
              "      <td>1993.000000</td>\n",
              "      <td>0.000000</td>\n",
              "      <td>0.00000</td>\n",
              "      <td>0.000000</td>\n",
              "      <td>0.000000</td>\n",
              "    </tr>\n",
              "    <tr>\n",
              "      <th>25%</th>\n",
              "      <td>2010.000000</td>\n",
              "      <td>1.000000</td>\n",
              "      <td>0.00000</td>\n",
              "      <td>0.000000</td>\n",
              "      <td>0.000000</td>\n",
              "    </tr>\n",
              "    <tr>\n",
              "      <th>50%</th>\n",
              "      <td>2012.000000</td>\n",
              "      <td>1.000000</td>\n",
              "      <td>0.00000</td>\n",
              "      <td>0.000000</td>\n",
              "      <td>0.000000</td>\n",
              "    </tr>\n",
              "    <tr>\n",
              "      <th>75%</th>\n",
              "      <td>2014.000000</td>\n",
              "      <td>1.000000</td>\n",
              "      <td>0.00000</td>\n",
              "      <td>0.000000</td>\n",
              "      <td>0.000000</td>\n",
              "    </tr>\n",
              "    <tr>\n",
              "      <th>max</th>\n",
              "      <td>2021.000000</td>\n",
              "      <td>3.000000</td>\n",
              "      <td>2.00000</td>\n",
              "      <td>2.000000</td>\n",
              "      <td>2.000000</td>\n",
              "    </tr>\n",
              "  </tbody>\n",
              "</table>\n",
              "</div>\n",
              "      <button class=\"colab-df-convert\" onclick=\"convertToInteractive('df-12fe6f44-de9a-4cb4-888b-b949fa74d5c3')\"\n",
              "              title=\"Convert this dataframe to an interactive table.\"\n",
              "              style=\"display:none;\">\n",
              "        \n",
              "  <svg xmlns=\"http://www.w3.org/2000/svg\" height=\"24px\"viewBox=\"0 0 24 24\"\n",
              "       width=\"24px\">\n",
              "    <path d=\"M0 0h24v24H0V0z\" fill=\"none\"/>\n",
              "    <path d=\"M18.56 5.44l.94 2.06.94-2.06 2.06-.94-2.06-.94-.94-2.06-.94 2.06-2.06.94zm-11 1L8.5 8.5l.94-2.06 2.06-.94-2.06-.94L8.5 2.5l-.94 2.06-2.06.94zm10 10l.94 2.06.94-2.06 2.06-.94-2.06-.94-.94-2.06-.94 2.06-2.06.94z\"/><path d=\"M17.41 7.96l-1.37-1.37c-.4-.4-.92-.59-1.43-.59-.52 0-1.04.2-1.43.59L10.3 9.45l-7.72 7.72c-.78.78-.78 2.05 0 2.83L4 21.41c.39.39.9.59 1.41.59.51 0 1.02-.2 1.41-.59l7.78-7.78 2.81-2.81c.8-.78.8-2.07 0-2.86zM5.41 20L4 18.59l7.72-7.72 1.47 1.35L5.41 20z\"/>\n",
              "  </svg>\n",
              "      </button>\n",
              "      \n",
              "  <style>\n",
              "    .colab-df-container {\n",
              "      display:flex;\n",
              "      flex-wrap:wrap;\n",
              "      gap: 12px;\n",
              "    }\n",
              "\n",
              "    .colab-df-convert {\n",
              "      background-color: #E8F0FE;\n",
              "      border: none;\n",
              "      border-radius: 50%;\n",
              "      cursor: pointer;\n",
              "      display: none;\n",
              "      fill: #1967D2;\n",
              "      height: 32px;\n",
              "      padding: 0 0 0 0;\n",
              "      width: 32px;\n",
              "    }\n",
              "\n",
              "    .colab-df-convert:hover {\n",
              "      background-color: #E2EBFA;\n",
              "      box-shadow: 0px 1px 2px rgba(60, 64, 67, 0.3), 0px 1px 3px 1px rgba(60, 64, 67, 0.15);\n",
              "      fill: #174EA6;\n",
              "    }\n",
              "\n",
              "    [theme=dark] .colab-df-convert {\n",
              "      background-color: #3B4455;\n",
              "      fill: #D2E3FC;\n",
              "    }\n",
              "\n",
              "    [theme=dark] .colab-df-convert:hover {\n",
              "      background-color: #434B5C;\n",
              "      box-shadow: 0px 1px 3px 1px rgba(0, 0, 0, 0.15);\n",
              "      filter: drop-shadow(0px 1px 2px rgba(0, 0, 0, 0.3));\n",
              "      fill: #FFFFFF;\n",
              "    }\n",
              "  </style>\n",
              "\n",
              "      <script>\n",
              "        const buttonEl =\n",
              "          document.querySelector('#df-12fe6f44-de9a-4cb4-888b-b949fa74d5c3 button.colab-df-convert');\n",
              "        buttonEl.style.display =\n",
              "          google.colab.kernel.accessAllowed ? 'block' : 'none';\n",
              "\n",
              "        async function convertToInteractive(key) {\n",
              "          const element = document.querySelector('#df-12fe6f44-de9a-4cb4-888b-b949fa74d5c3');\n",
              "          const dataTable =\n",
              "            await google.colab.kernel.invokeFunction('convertToInteractive',\n",
              "                                                     [key], {});\n",
              "          if (!dataTable) return;\n",
              "\n",
              "          const docLinkHtml = 'Like what you see? Visit the ' +\n",
              "            '<a target=\"_blank\" href=https://colab.research.google.com/notebooks/data_table.ipynb>data table notebook</a>'\n",
              "            + ' to learn more about interactive tables.';\n",
              "          element.innerHTML = '';\n",
              "          dataTable['output_type'] = 'display_data';\n",
              "          await google.colab.output.renderOutput(dataTable, element);\n",
              "          const docLink = document.createElement('div');\n",
              "          docLink.innerHTML = docLinkHtml;\n",
              "          element.appendChild(docLink);\n",
              "        }\n",
              "      </script>\n",
              "    </div>\n",
              "  </div>\n",
              "  "
            ],
            "text/plain": [
              "              Data  Liczba_Silnikow  ...  Ilość ciężko rannych  Ilość lekko rannych\n",
              "count  7530.000000      7530.000000  ...           7530.000000          7530.000000\n",
              "mean   2012.347410         1.069588  ...              0.208632             0.130943\n",
              "std       3.578933         0.313409  ...              0.498269             0.393683\n",
              "min    1993.000000         0.000000  ...              0.000000             0.000000\n",
              "25%    2010.000000         1.000000  ...              0.000000             0.000000\n",
              "50%    2012.000000         1.000000  ...              0.000000             0.000000\n",
              "75%    2014.000000         1.000000  ...              0.000000             0.000000\n",
              "max    2021.000000         3.000000  ...              2.000000             2.000000\n",
              "\n",
              "[8 rows x 5 columns]"
            ]
          },
          "metadata": {},
          "execution_count": 20
        },
        {
          "output_type": "display_data",
          "data": {
            "image/png": "[encoded data removed]",
            "text/plain": [
              "<Figure size 1080x720 with 6 Axes>"
            ]
          },
          "metadata": {
            "needs_background": "light"
          }
        }
      ]
    },
    {
      "cell_type": "markdown",
      "source": [
        "**Wniosek:** Na box plotach widzimy, że dla większości zmiennych w zbiorze występuje dużo wartości odstających."
      ],
      "metadata": {
        "id": "-3QWM7NDhHYe"
      }
    },
    {
      "cell_type": "markdown",
      "metadata": {
        "id": "DJFEXP6-30dc"
      },
      "source": [
        "## **Pierwszy wykres**"
      ]
    },
    {
      "cell_type": "code",
      "execution_count": 55,
      "metadata": {
        "id": "2Xfv8GAsqGU2",
        "colab": {
          "base_uri": "https://localhost:8080/",
          "height": 305
        },
        "outputId": "36a78fd5-a59c-4c36-e09c-d34242455505"
      },
      "outputs": [
        {
          "output_type": "execute_result",
          "data": {
            "text/plain": [
              "<matplotlib.axes._subplots.AxesSubplot at 0x7f5aa06ba250>"
            ]
          },
          "metadata": {},
          "execution_count": 55
        },
        {
          "output_type": "display_data",
          "data": {
            "image/png": "[encoded data removed]",
            "text/plain": [
              "<Figure size 432x288 with 1 Axes>"
            ]
          },
          "metadata": {
            "needs_background": "light"
          }
        }
      ],
      "source": [
        "sns.countplot(x=\"Stan Maszyny\", data=df)"
      ]
    },
    {
      "cell_type": "markdown",
      "metadata": {
        "id": "RJ_NLNIo4RLW"
      },
      "source": [
        "**X** - \"Stan Maszyny\"\n",
        "\n",
        "---\n",
        "\n",
        "**Wioski:** \n",
        "\n",
        "Najwięcej wyników dla stanu maszyn po wypadku dla analizowanej bazy danych osiągnięto dla istotnych zniszczeń. Można zauważyć ogromną przewagę nad innymi charkterami zniszczeń. Na drugim miejscu znajduje się całkowite zniszczenie maszyn."
      ]
    },
    {
      "cell_type": "markdown",
      "metadata": {
        "id": "YxOPOE8R4HxP"
      },
      "source": [
        "## **Drugi wykres - interaktywny wykres**"
      ]
    },
    {
      "cell_type": "code",
      "execution_count": 22,
      "metadata": {
        "colab": {
          "base_uri": "https://localhost:8080/",
          "height": 692,
          "referenced_widgets": [
            "bcf314ab94224f54aed072f7b2490649",
            "1111cfb99f0f44a69c4e4a17a2088d42",
            "e6ddd83958cc4434a0fdd50a057db34b",
            "023d3b1e3e1c42849eb97cb258f15635",
            "1883598f6c634989bd261202aadb901e",
            "c9263a24496b4265b0b5735f90cb2e92",
            "a284be7eb6b443f89a02fff6d1d8a5bd",
            "712d27093c094d0c90470c3539f0eb37",
            "ad30cbd6eed04497abc6b3211e0fb21f",
            "c777a0f6a56149728e24eb2e34c5c815",
            "39bc2b27367b49e78659906634815706",
            "90331fd109d141f4ba6876c4cdd25b34",
            "ea30eec1da094e39990c7dc98ba5b6a3"
          ]
        },
        "id": "B_SaFRDawkIF",
        "outputId": "b3ee8095-00c7-48a1-8020-e26b250c23c8"
      },
      "outputs": [
        {
          "output_type": "display_data",
          "data": {
            "application/vnd.jupyter.widget-view+json": {
              "model_id": "bcf314ab94224f54aed072f7b2490649",
              "version_minor": 0,
              "version_major": 2
            },
            "text/plain": [
              "interactive(children=(Dropdown(description='x', options=('Typ zdarzenia', 'Data', 'Lokalizacja', 'Kraj', 'Skal…"
            ]
          },
          "metadata": {}
        }
      ],
      "source": [
        "#Scatter plot - dwie zmienne, które sobie wybieramy oraz z mozliwością zmiany typu wykresu\n",
        "\n",
        "@interact\n",
        "def plot(x=list(df.columns), y=list(df.columns), figtype=[\"scatter\", \"bar\", \"hist\", \"barh\", \"kde\"]):\n",
        "    plt.figure(figsize=(20,8))\n",
        "    if figtype == \"bar\":\n",
        "      g = sns.barplot(x=x, y=y, dodge=False, data=df)\n",
        "      for item in g.get_xticklabels():\n",
        "        item.set_rotation(80)\n",
        "    elif figtype ==\"scatter\":\n",
        "      g = sns.scatterplot(x=x, y=y,data=df)\n",
        "    else:\n",
        "      g = sns.displot(x=x, y=y, data=df, kind = figtype)"
      ]
    },
    {
      "cell_type": "markdown",
      "metadata": {
        "id": "rRI0O71g2TLO"
      },
      "source": [
        "1. * x - \"Data\"\n",
        "   * y - \"Ilość ofiar śm.\"\n",
        "   * figtype - \"bar\"\n",
        "\n",
        "**Wnioski:** \n",
        "\n",
        "Najwięcej ofiar śmiertelnych zanotowano w 1992 roku. Liczba znacząco przewyższa nad pozostałymi latami, bo osiąga ponad 25 ofiar śmiertelnych.\n",
        "\n",
        "---\n"
      ]
    },
    {
      "cell_type": "markdown",
      "source": [
        "2. * x - \"Typ maszyny\"\n",
        "   * y - \"Ilość ofiar śmiertelnych\"\n",
        "   * figtype - \"bar\"\n",
        "   \n",
        "\n",
        "**Wnioski:** \n",
        "\n",
        "Rozkład ofiar smiertelnych ze względu na typ maszyny można zauważyć najwyższy na ***Weight-Shift***"
      ],
      "metadata": {
        "id": "tMvPqNxq19UC"
      }
    },
    {
      "cell_type": "markdown",
      "metadata": {
        "id": "7eMgihQI4y2s"
      },
      "source": [
        "## **Trzeci wykres - interaktywna tabela**"
      ]
    },
    {
      "cell_type": "markdown",
      "source": [
        "Na poniższej wizualizacji pojawia się tabela dla której możemy wybrać według której zmiennej chcemy filtrować dane oraz przesuwakiem okraślamy powyżej jakiej liczby chcemy widzieć wyniki tej zmiennej."
      ],
      "metadata": {
        "id": "mLLmVPfS3RB1"
      }
    },
    {
      "cell_type": "code",
      "source": [
        "@interact\n",
        "def show_titles_more_than(x=(0, 30, 1),\n",
        "                          column=list(df.select_dtypes('number').columns), \n",
        "                          ):\n",
        "    display(df.loc[df[column] > x, ['Data', 'Kraj', 'Typ Maszyny', 'Cel Lotu', 'Ilosc_ofiar_smiertelnych', 'Ilość lekko rannych']])"
      ],
      "metadata": {
        "colab": {
          "base_uri": "https://localhost:8080/",
          "height": 176,
          "referenced_widgets": [
            "3eec042e057c452aa83281d10fb8b75d",
            "e6741899d4b84b869c8f39cfeb7a8bc2",
            "0ec7fa1dce264221990d673046317007",
            "8d2a3771d25c44c5935a0734851a1c2a",
            "6c0b6a0a8b94489ebd0d209c52429b6c",
            "1fbb434a8c954016a94c44648f85974e",
            "5817348eb3774f52a1231ffd4f1caef6",
            "763d27b6beca424fa04bd5802f320124",
            "0835e85061894826b887f78e104abeee",
            "b7f829f8727f40e8a4767386d12bdc86"
          ]
        },
        "id": "oP-aJsvRMIZl",
        "outputId": "41bc3433-80c6-47c3-9885-8d4f99b21a23"
      },
      "execution_count": 36,
      "outputs": [
        {
          "output_type": "display_data",
          "data": {
            "application/vnd.jupyter.widget-view+json": {
              "model_id": "3eec042e057c452aa83281d10fb8b75d",
              "version_minor": 0,
              "version_major": 2
            },
            "text/plain": [
              "interactive(children=(IntSlider(value=15, description='x', max=30), Dropdown(description='column', options=('D…"
            ]
          },
          "metadata": {}
        }
      ]
    },
    {
      "cell_type": "markdown",
      "source": [
        "\n",
        "* Columna \"Ilość ofiar śmiertelnych\"\n",
        "\n",
        "* x - 10\n",
        "\n",
        "   \n",
        "\n",
        "**Wnioski:**\n",
        "\n",
        "Filtrująć dane ze względu na ilość ofiar śmiertelnych w wypadku dla których liczba ofiar wynosiła powyżej 10 osób, widzimy, że w naszej bazie danych są tylko dwa tego typu zdarzenia.\n",
        "\n",
        "---"
      ],
      "metadata": {
        "id": "X7C33ph1Nztw"
      }
    },
    {
      "cell_type": "markdown",
      "source": [
        "## **Czwarty wykres - wykres liniowy + regresja**"
      ],
      "metadata": {
        "id": "eNWsw9MuMMdo"
      }
    },
    {
      "cell_type": "code",
      "source": [
        "\n",
        "g = sns.lmplot(\n",
        "    data=df,\n",
        "    x=\"Liczba_Silnikow\", y=\"Ilosc_ofiar_smiertelnych\", hue=\"Typ zdarzenia\",\n",
        "    height=5, markers=[\"^\", \"x\"]\n",
        ")\n"
      ],
      "metadata": {
        "colab": {
          "base_uri": "https://localhost:8080/",
          "height": 368
        },
        "id": "q9W0S1LTXPO8",
        "outputId": "251bbb9f-5441-4975-974b-a28db5008361"
      },
      "execution_count": 68,
      "outputs": [
        {
          "output_type": "display_data",
          "data": {
            "image/png": "[encoded data removed]",
            "text/plain": [
              "<Figure size 454.95x360 with 1 Axes>"
            ]
          },
          "metadata": {
            "needs_background": "light"
          }
        }
      ]
    },
    {
      "cell_type": "markdown",
      "source": [
        " * x - \"Liczba Silników\"\n",
        " * y - \"Ilość ofiar śmiertelnych\"\n",
        "\n",
        "**Wnioski:** \n",
        "\n",
        "\n",
        "Ta wizualizacja bada interakcje między trzema zmiennymi. Zależność między liczbą silników a ilości ofiar śmiertelnych dla typu zdarzenia. Wraz ze wzrostem ilości silników w incydentach lotniczych nie idą ofiary śmiertelne, lecz w przypadku wypadków lotniczych (accident), występuje zależność. \n",
        "\n",
        "---"
      ],
      "metadata": {
        "id": "Kx_o6agkbZkv"
      }
    },
    {
      "cell_type": "markdown",
      "source": [
        "## **Piąty wykres - korelacja**"
      ],
      "metadata": {
        "id": "I4svmpHyrUpp"
      }
    },
    {
      "cell_type": "code",
      "source": [
        "sns.heatmap(df.corr(), annot=True, cmap='flare')\n",
        "plt.title(' Wykres korelacji')"
      ],
      "metadata": {
        "id": "a3QRBwuJvwgx",
        "colab": {
          "base_uri": "https://localhost:8080/",
          "height": 410
        },
        "outputId": "8f19ea36-23e5-40b8-ca1f-8f3532e374e6"
      },
      "execution_count": 38,
      "outputs": [
        {
          "output_type": "execute_result",
          "data": {
            "text/plain": [
              "Text(0.5, 1.0, ' Wykres korelacji')"
            ]
          },
          "metadata": {},
          "execution_count": 38
        },
        {
          "output_type": "display_data",
          "data": {
            "image/png": "[encoded data removed]",
            "text/plain": [
              "<Figure size 432x288 with 2 Axes>"
            ]
          },
          "metadata": {
            "needs_background": "light"
          }
        }
      ]
    },
    {
      "cell_type": "markdown",
      "source": [
        "**Wnioski:**\n",
        "\n",
        "Z analizy wykresu widzimy, że w omawianym zbiorze nie występują silne korelacje. Najwyższa korelacją (0,14) charakteryzuje się zmienna \"Ilość ofiar śmiertelnych\""
      ],
      "metadata": {
        "id": "bhEOB_Z3dUjM"
      }
    },
    {
      "cell_type": "markdown",
      "source": [
        "## **Szósty wykres - wykres kołowy**"
      ],
      "metadata": {
        "id": "p9p4z5Z0PK36"
      }
    },
    {
      "cell_type": "code",
      "source": [
        "slices = [89.6, 8.1, 2.2, 0.1]\n",
        "\n",
        "categories = [\"Substantial\", \"Destroyed\", \"Minor\", \"Unknown\"]\n",
        "\n",
        "cols = ['c', 'm', 'r', 'b']\n",
        "pie =  plt.pie (slices, \n",
        "           \n",
        "           colors = cols, \n",
        "           startangle = 10, \n",
        "           shadow = True,\n",
        "           explode = (0.2 , 0.1,0.1,0.1),\n",
        "           autopct = '%1.1f%%',\n",
        "           pctdistance=1.3)\n",
        "plt.legend(categories, loc=\"center left\",\n",
        "           title = \"Stan maszyny\",\n",
        "           bbox_to_anchor=(1.1, 0, 0.5, 1.1))\n",
        "plt.axis('equal')\n",
        "bbox_props = dict(boxstyle=\"square,pad=0.3\", fc=\"w\", ec=\"k\", lw=0.72)\n",
        "kw = dict(arrowprops=dict(arrowstyle=\"-\"),\n",
        "          bbox=bbox_props, zorder=0, va=\"center\")\n",
        "\n",
        "\n",
        "\n",
        "\n",
        "\n",
        "plt.title('Procentowy rozkład stanu maszyn w całym badaniu', fontsize = 20)\n",
        "plt.show()"
      ],
      "metadata": {
        "colab": {
          "base_uri": "https://localhost:8080/",
          "height": 276
        },
        "id": "Q5n5-CluupbD",
        "outputId": "c4340d6b-8fae-4ad7-8319-cabeee855011"
      },
      "execution_count": 51,
      "outputs": [
        {
          "output_type": "display_data",
          "data": {
            "image/png": "[encoded data removed]",
            "text/plain": [
              "<Figure size 432x288 with 1 Axes>"
            ]
          },
          "metadata": {}
        }
      ]
    },
    {
      "cell_type": "markdown",
      "source": [
        "**Wnioski:**\n",
        "\n",
        "Blisko 90% maszyn po wypadku lub incydencie lotniczym ucierpiała *istotnemu* uszkodzeniu. 8% maszyn zostało zniszczonych. 2% wszystkich uszkodzeń wywołało nieznaczne straty. "
      ],
      "metadata": {
        "id": "n8MEr7ncNM9O"
      }
    },
    {
      "cell_type": "markdown",
      "source": [
        "## **Siódmy wykres - wykres gęstości**"
      ],
      "metadata": {
        "id": "KYGhCm_qrZ-G"
      }
    },
    {
      "cell_type": "code",
      "source": [
        "# importing the libraries\n",
        "import pandas as pd\n",
        "import seaborn as sns\n",
        "import matplotlib.pyplot as plt\n",
        "\n",
        "# loading the dataset\n",
        "# from seaborn library\n",
        "# viewing the dataset\n",
        "df.head()\n",
        "\n",
        "# loading the dataset\n",
        "# from seaborn library\n",
        "\n",
        "# viewing the dataset\n",
        "df.Data.plot.density(color='green')\n",
        "plt.title('Wykres gęstości')\n",
        "plt.show()\n"
      ],
      "metadata": {
        "id": "dDh83kRdre40",
        "colab": {
          "base_uri": "https://localhost:8080/",
          "height": 296
        },
        "outputId": "80d06fe5-b976-4851-871e-99aeba8a8960"
      },
      "execution_count": 52,
      "outputs": [
        {
          "output_type": "display_data",
          "data": {
            "image/png": "[encoded data removed]",
            "text/plain": [
              "<Figure size 432x288 with 1 Axes>"
            ]
          },
          "metadata": {
            "needs_background": "light"
          }
        }
      ]
    },
    {
      "cell_type": "markdown",
      "source": [
        "**Wnioski:**\n",
        "\n",
        "Wykres gęstości wykorzystuje się do zaprezentowania rozkładu zmiennej numerycznej. Widzimy, że rozkład jest w kształcie dzwonu, dlatego możemy zinterpretować, że jest to rozkład normalny."
      ],
      "metadata": {
        "id": "_6tr-lCTN5V3"
      }
    },
    {
      "cell_type": "markdown",
      "source": [
        "## **Ósmy wykres**"
      ],
      "metadata": {
        "id": "CpPSARLUrfJk"
      }
    },
    {
      "cell_type": "code",
      "metadata": {
        "colab": {
          "base_uri": "https://localhost:8080/",
          "height": 297
        },
        "id": "uGxhb5OsAeSA",
        "outputId": "011e6324-d0bd-4a96-90fb-a4af3e79c5b4"
      },
      "source": [
        "from pywaffle import Waffle\n",
        "data = {'Accident': 98.47, 'Incident': 1.53}\n",
        "fig = plt.figure(\n",
        "    FigureClass=Waffle, \n",
        "    rows=10, \n",
        "    values=data, \n",
        "    title={'label': 'Podział wypadków według typu', 'loc': 'left'},\n",
        "    labels=[f\"{k} ({v}%)\" for k, v in data.items()],\n",
        "    legend={'loc': 'upper left', 'bbox_to_anchor': (1.1, 1)},\n",
        "    colors = [\"c\", \"m\"]\n",
        "    \n",
        "  \n",
        ")\n",
        "\n",
        "plt.show()"
      ],
      "execution_count": 54,
      "outputs": [
        {
          "output_type": "display_data",
          "data": {
            "image/png": "[encoded data removed]",
            "text/plain": [
              "<Waffle size 432x288 with 1 Axes>"
            ]
          },
          "metadata": {
            "needs_background": "light"
          }
        }
      ]
    },
    {
      "cell_type": "markdown",
      "source": [
        "**Wnioski:**\n",
        "\n",
        "Wykres kafelkowy zaprezentowany powyżej przestawia w jeszcze inny sposób udział wypadków do incydentów. Na 100 wyszczególnionych \"kwadracików\", incydenty z odsetkiem 1,53% zajmują tylko dwa kwadraty. Wykres kafelkowy to dobry sposób, żeby pokazać jak bardzo o wiele jest wypadków niż incydentów."
      ],
      "metadata": {
        "id": "5ZqHfIqHPkFg"
      }
    },
    {
      "cell_type": "markdown",
      "source": [
        "# **PODSUMOWANIE**#"
      ],
      "metadata": {
        "id": "6pV3lWFY-AMp"
      }
    },
    {
      "cell_type": "markdown",
      "source": [
        "Na podstawie powyższych wykresów możemy jasno powiedzieć, że zgłaszane przypadki w lotnictwie dotyczą w głównej mierzy wypadków niż incydentów (na podstawie ostatniego wykresu - na 100 zdarzeń tylko 2 incydenty). W ich skutek maszyny ulegały wyraźnemu zniszczeniu. Najsilniejsza korelacja została zauważona między liczbą ofiar wypadków a liczbą silników w samolocie (0,14 - jednak jest to słaba zależność między zmiennymi). Najwięcej wypadków miało miejsce na Alasce, co może być punktem wyjścia dla organów badania wypadków lotniczych do dalszych badań."
      ],
      "metadata": {
        "id": "V2wmhUsa-Df7"
      }
    }
  ],
  "metadata": {
    "colab": {
      "collapsed_sections": [
        "YxOPOE8R4HxP",
        "7eMgihQI4y2s",
        "eNWsw9MuMMdo",
        "I4svmpHyrUpp",
        "p9p4z5Z0PK36",
        "KYGhCm_qrZ-G",
        "CpPSARLUrfJk"
      ],
      "name": "Wizualizacja",
      "provenance": [],
      "include_colab_link": true
    },
    "kernelspec": {
      "display_name": "Python 3",
      "name": "python3"
    },
    "language_info": {
      "name": "python"
    },
    "widgets": {
      "application/vnd.jupyter.widget-state+json": {
        "bcf314ab94224f54aed072f7b2490649": {
          "model_module": "@jupyter-widgets/controls",
          "model_name": "VBoxModel",
          "model_module_version": "1.5.0",
          "state": {
            "_view_name": "VBoxView",
            "_dom_classes": [
              "widget-interact"
            ],
            "_model_name": "VBoxModel",
            "_view_module": "@jupyter-widgets/controls",
            "_model_module_version": "1.5.0",
            "_view_count": null,
            "_view_module_version": "1.5.0",
            "box_style": "",
            "layout": "IPY_MODEL_1111cfb99f0f44a69c4e4a17a2088d42",
            "_model_module": "@jupyter-widgets/controls",
            "children": [
              "IPY_MODEL_e6ddd83958cc4434a0fdd50a057db34b",
              "IPY_MODEL_023d3b1e3e1c42849eb97cb258f15635",
              "IPY_MODEL_1883598f6c634989bd261202aadb901e",
              "IPY_MODEL_c9263a24496b4265b0b5735f90cb2e92"
            ]
          }
        },
        "1111cfb99f0f44a69c4e4a17a2088d42": {
          "model_module": "@jupyter-widgets/base",
          "model_name": "LayoutModel",
          "model_module_version": "1.2.0",
          "state": {
            "_view_name": "LayoutView",
            "grid_template_rows": null,
            "right": null,
            "justify_content": null,
            "_view_module": "@jupyter-widgets/base",
            "overflow": null,
            "_model_module_version": "1.2.0",
            "_view_count": null,
            "flex_flow": null,
            "width": null,
            "min_width": null,
            "border": null,
            "align_items": null,
            "bottom": null,
            "_model_module": "@jupyter-widgets/base",
            "top": null,
            "grid_column": null,
            "overflow_y": null,
            "overflow_x": null,
            "grid_auto_flow": null,
            "grid_area": null,
            "grid_template_columns": null,
            "flex": null,
            "_model_name": "LayoutModel",
            "justify_items": null,
            "grid_row": null,
            "max_height": null,
            "align_content": null,
            "visibility": null,
            "align_self": null,
            "height": null,
            "min_height": null,
            "padding": null,
            "grid_auto_rows": null,
            "grid_gap": null,
            "max_width": null,
            "order": null,
            "_view_module_version": "1.2.0",
            "grid_template_areas": null,
            "object_position": null,
            "object_fit": null,
            "grid_auto_columns": null,
            "margin": null,
            "display": null,
            "left": null
          }
        },
        "e6ddd83958cc4434a0fdd50a057db34b": {
          "model_module": "@jupyter-widgets/controls",
          "model_name": "DropdownModel",
          "model_module_version": "1.5.0",
          "state": {
            "_options_labels": [
              "Typ zdarzenia",
              "Data",
              "Lokalizacja",
              "Kraj",
              "Skala",
              "Stan Maszyny",
              "Typ Maszyny",
              "Make",
              "Amatorska Budowa",
              "Liczba_Silnikow",
              "Cel Lotu",
              "Linia Lotnicza",
              "Ilosc_ofiar_smiertelnych",
              "Ilość ciężko rannych",
              "Ilość lekko rannych"
            ],
            "_view_name": "DropdownView",
            "style": "IPY_MODEL_a284be7eb6b443f89a02fff6d1d8a5bd",
            "_dom_classes": [],
            "description": "x",
            "_model_name": "DropdownModel",
            "index": 6,
            "_view_module": "@jupyter-widgets/controls",
            "_model_module_version": "1.5.0",
            "_view_count": null,
            "disabled": false,
            "_view_module_version": "1.5.0",
            "description_tooltip": null,
            "_model_module": "@jupyter-widgets/controls",
            "layout": "IPY_MODEL_712d27093c094d0c90470c3539f0eb37"
          }
        },
        "023d3b1e3e1c42849eb97cb258f15635": {
          "model_module": "@jupyter-widgets/controls",
          "model_name": "DropdownModel",
          "model_module_version": "1.5.0",
          "state": {
            "_options_labels": [
              "Typ zdarzenia",
              "Data",
              "Lokalizacja",
              "Kraj",
              "Skala",
              "Stan Maszyny",
              "Typ Maszyny",
              "Make",
              "Amatorska Budowa",
              "Liczba_Silnikow",
              "Cel Lotu",
              "Linia Lotnicza",
              "Ilosc_ofiar_smiertelnych",
              "Ilość ciężko rannych",
              "Ilość lekko rannych"
            ],
            "_view_name": "DropdownView",
            "style": "IPY_MODEL_ad30cbd6eed04497abc6b3211e0fb21f",
            "_dom_classes": [],
            "description": "y",
            "_model_name": "DropdownModel",
            "index": 12,
            "_view_module": "@jupyter-widgets/controls",
            "_model_module_version": "1.5.0",
            "_view_count": null,
            "disabled": false,
            "_view_module_version": "1.5.0",
            "description_tooltip": null,
            "_model_module": "@jupyter-widgets/controls",
            "layout": "IPY_MODEL_c777a0f6a56149728e24eb2e34c5c815"
          }
        },
        "1883598f6c634989bd261202aadb901e": {
          "model_module": "@jupyter-widgets/controls",
          "model_name": "DropdownModel",
          "model_module_version": "1.5.0",
          "state": {
            "_options_labels": [
              "scatter",
              "bar",
              "hist",
              "barh",
              "kde"
            ],
            "_view_name": "DropdownView",
            "style": "IPY_MODEL_39bc2b27367b49e78659906634815706",
            "_dom_classes": [],
            "description": "figtype",
            "_model_name": "DropdownModel",
            "index": 1,
            "_view_module": "@jupyter-widgets/controls",
            "_model_module_version": "1.5.0",
            "_view_count": null,
            "disabled": false,
            "_view_module_version": "1.5.0",
            "description_tooltip": null,
            "_model_module": "@jupyter-widgets/controls",
            "layout": "IPY_MODEL_90331fd109d141f4ba6876c4cdd25b34"
          }
        },
        "c9263a24496b4265b0b5735f90cb2e92": {
          "model_module": "@jupyter-widgets/output",
          "model_name": "OutputModel",
          "model_module_version": "1.0.0",
          "state": {
            "_view_name": "OutputView",
            "msg_id": "",
            "_dom_classes": [],
            "_model_name": "OutputModel",
            "outputs": [
              {
                "output_type": "display_data",
                "data": {
                  "image/png": "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\n",
                  "text/plain": "<Figure size 1440x576 with 1 Axes>"
                },
                "metadata": {
                  "needs_background": "light"
                }
              }
            ],
            "_view_module": "@jupyter-widgets/output",
            "_model_module_version": "1.0.0",
            "_view_count": null,
            "_view_module_version": "1.0.0",
            "layout": "IPY_MODEL_ea30eec1da094e39990c7dc98ba5b6a3",
            "_model_module": "@jupyter-widgets/output"
          }
        },
        "a284be7eb6b443f89a02fff6d1d8a5bd": {
          "model_module": "@jupyter-widgets/controls",
          "model_name": "DescriptionStyleModel",
          "model_module_version": "1.5.0",
          "state": {
            "_view_name": "StyleView",
            "_model_name": "DescriptionStyleModel",
            "description_width": "",
            "_view_module": "@jupyter-widgets/base",
            "_model_module_version": "1.5.0",
            "_view_count": null,
            "_view_module_version": "1.2.0",
            "_model_module": "@jupyter-widgets/controls"
          }
        },
        "712d27093c094d0c90470c3539f0eb37": {
          "model_module": "@jupyter-widgets/base",
          "model_name": "LayoutModel",
          "model_module_version": "1.2.0",
          "state": {
            "_view_name": "LayoutView",
            "grid_template_rows": null,
            "right": null,
            "justify_content": null,
            "_view_module": "@jupyter-widgets/base",
            "overflow": null,
            "_model_module_version": "1.2.0",
            "_view_count": null,
            "flex_flow": null,
            "width": null,
            "min_width": null,
            "border": null,
            "align_items": null,
            "bottom": null,
            "_model_module": "@jupyter-widgets/base",
            "top": null,
            "grid_column": null,
            "overflow_y": null,
            "overflow_x": null,
            "grid_auto_flow": null,
            "grid_area": null,
            "grid_template_columns": null,
            "flex": null,
            "_model_name": "LayoutModel",
            "justify_items": null,
            "grid_row": null,
            "max_height": null,
            "align_content": null,
            "visibility": null,
            "align_self": null,
            "height": null,
            "min_height": null,
            "padding": null,
            "grid_auto_rows": null,
            "grid_gap": null,
            "max_width": null,
            "order": null,
            "_view_module_version": "1.2.0",
            "grid_template_areas": null,
            "object_position": null,
            "object_fit": null,
            "grid_auto_columns": null,
            "margin": null,
            "display": null,
            "left": null
          }
        },
        "ad30cbd6eed04497abc6b3211e0fb21f": {
          "model_module": "@jupyter-widgets/controls",
          "model_name": "DescriptionStyleModel",
          "model_module_version": "1.5.0",
          "state": {
            "_view_name": "StyleView",
            "_model_name": "DescriptionStyleModel",
            "description_width": "",
            "_view_module": "@jupyter-widgets/base",
            "_model_module_version": "1.5.0",
            "_view_count": null,
            "_view_module_version": "1.2.0",
            "_model_module": "@jupyter-widgets/controls"
          }
        },
        "c777a0f6a56149728e24eb2e34c5c815": {
          "model_module": "@jupyter-widgets/base",
          "model_name": "LayoutModel",
          "model_module_version": "1.2.0",
          "state": {
            "_view_name": "LayoutView",
            "grid_template_rows": null,
            "right": null,
            "justify_content": null,
            "_view_module": "@jupyter-widgets/base",
            "overflow": null,
            "_model_module_version": "1.2.0",
            "_view_count": null,
            "flex_flow": null,
            "width": null,
            "min_width": null,
            "border": null,
            "align_items": null,
            "bottom": null,
            "_model_module": "@jupyter-widgets/base",
            "top": null,
            "grid_column": null,
            "overflow_y": null,
            "overflow_x": null,
            "grid_auto_flow": null,
            "grid_area": null,
            "grid_template_columns": null,
            "flex": null,
            "_model_name": "LayoutModel",
            "justify_items": null,
            "grid_row": null,
            "max_height": null,
            "align_content": null,
            "visibility": null,
            "align_self": null,
            "height": null,
            "min_height": null,
            "padding": null,
            "grid_auto_rows": null,
            "grid_gap": null,
            "max_width": null,
            "order": null,
            "_view_module_version": "1.2.0",
            "grid_template_areas": null,
            "object_position": null,
            "object_fit": null,
            "grid_auto_columns": null,
            "margin": null,
            "display": null,
            "left": null
          }
        },
        "39bc2b27367b49e78659906634815706": {
          "model_module": "@jupyter-widgets/controls",
          "model_name": "DescriptionStyleModel",
          "model_module_version": "1.5.0",
          "state": {
            "_view_name": "StyleView",
            "_model_name": "DescriptionStyleModel",
            "description_width": "",
            "_view_module": "@jupyter-widgets/base",
            "_model_module_version": "1.5.0",
            "_view_count": null,
            "_view_module_version": "1.2.0",
            "_model_module": "@jupyter-widgets/controls"
          }
        },
        "90331fd109d141f4ba6876c4cdd25b34": {
          "model_module": "@jupyter-widgets/base",
          "model_name": "LayoutModel",
          "model_module_version": "1.2.0",
          "state": {
            "_view_name": "LayoutView",
            "grid_template_rows": null,
            "right": null,
            "justify_content": null,
            "_view_module": "@jupyter-widgets/base",
            "overflow": null,
            "_model_module_version": "1.2.0",
            "_view_count": null,
            "flex_flow": null,
            "width": null,
            "min_width": null,
            "border": null,
            "align_items": null,
            "bottom": null,
            "_model_module": "@jupyter-widgets/base",
            "top": null,
            "grid_column": null,
            "overflow_y": null,
            "overflow_x": null,
            "grid_auto_flow": null,
            "grid_area": null,
            "grid_template_columns": null,
            "flex": null,
            "_model_name": "LayoutModel",
            "justify_items": null,
            "grid_row": null,
            "max_height": null,
            "align_content": null,
            "visibility": null,
            "align_self": null,
            "height": null,
            "min_height": null,
            "padding": null,
            "grid_auto_rows": null,
            "grid_gap": null,
            "max_width": null,
            "order": null,
            "_view_module_version": "1.2.0",
            "grid_template_areas": null,
            "object_position": null,
            "object_fit": null,
            "grid_auto_columns": null,
            "margin": null,
            "display": null,
            "left": null
          }
        },
        "ea30eec1da094e39990c7dc98ba5b6a3": {
          "model_module": "@jupyter-widgets/base",
          "model_name": "LayoutModel",
          "model_module_version": "1.2.0",
          "state": {
            "_view_name": "LayoutView",
            "grid_template_rows": null,
            "right": null,
            "justify_content": null,
            "_view_module": "@jupyter-widgets/base",
            "overflow": null,
            "_model_module_version": "1.2.0",
            "_view_count": null,
            "flex_flow": null,
            "width": null,
            "min_width": null,
            "border": null,
            "align_items": null,
            "bottom": null,
            "_model_module": "@jupyter-widgets/base",
            "top": null,
            "grid_column": null,
            "overflow_y": null,
            "overflow_x": null,
            "grid_auto_flow": null,
            "grid_area": null,
            "grid_template_columns": null,
            "flex": null,
            "_model_name": "LayoutModel",
            "justify_items": null,
            "grid_row": null,
            "max_height": null,
            "align_content": null,
            "visibility": null,
            "align_self": null,
            "height": null,
            "min_height": null,
            "padding": null,
            "grid_auto_rows": null,
            "grid_gap": null,
            "max_width": null,
            "order": null,
            "_view_module_version": "1.2.0",
            "grid_template_areas": null,
            "object_position": null,
            "object_fit": null,
            "grid_auto_columns": null,
            "margin": null,
            "display": null,
            "left": null
          }
        },
        "3eec042e057c452aa83281d10fb8b75d": {
          "model_module": "@jupyter-widgets/controls",
          "model_name": "VBoxModel",
          "model_module_version": "1.5.0",
          "state": {
            "_view_name": "VBoxView",
            "_dom_classes": [
              "widget-interact"
            ],
            "_model_name": "VBoxModel",
            "_view_module": "@jupyter-widgets/controls",
            "_model_module_version": "1.5.0",
            "_view_count": null,
            "_view_module_version": "1.5.0",
            "box_style": "",
            "layout": "IPY_MODEL_e6741899d4b84b869c8f39cfeb7a8bc2",
            "_model_module": "@jupyter-widgets/controls",
            "children": [
              "IPY_MODEL_0ec7fa1dce264221990d673046317007",
              "IPY_MODEL_8d2a3771d25c44c5935a0734851a1c2a",
              "IPY_MODEL_6c0b6a0a8b94489ebd0d209c52429b6c"
            ]
          }
        },
        "e6741899d4b84b869c8f39cfeb7a8bc2": {
          "model_module": "@jupyter-widgets/base",
          "model_name": "LayoutModel",
          "model_module_version": "1.2.0",
          "state": {
            "_view_name": "LayoutView",
            "grid_template_rows": null,
            "right": null,
            "justify_content": null,
            "_view_module": "@jupyter-widgets/base",
            "overflow": null,
            "_model_module_version": "1.2.0",
            "_view_count": null,
            "flex_flow": null,
            "width": null,
            "min_width": null,
            "border": null,
            "align_items": null,
            "bottom": null,
            "_model_module": "@jupyter-widgets/base",
            "top": null,
            "grid_column": null,
            "overflow_y": null,
            "overflow_x": null,
            "grid_auto_flow": null,
            "grid_area": null,
            "grid_template_columns": null,
            "flex": null,
            "_model_name": "LayoutModel",
            "justify_items": null,
            "grid_row": null,
            "max_height": null,
            "align_content": null,
            "visibility": null,
            "align_self": null,
            "height": null,
            "min_height": null,
            "padding": null,
            "grid_auto_rows": null,
            "grid_gap": null,
            "max_width": null,
            "order": null,
            "_view_module_version": "1.2.0",
            "grid_template_areas": null,
            "object_position": null,
            "object_fit": null,
            "grid_auto_columns": null,
            "margin": null,
            "display": null,
            "left": null
          }
        },
        "0ec7fa1dce264221990d673046317007": {
          "model_module": "@jupyter-widgets/controls",
          "model_name": "IntSliderModel",
          "model_module_version": "1.5.0",
          "state": {
            "_view_name": "IntSliderView",
            "style": "IPY_MODEL_1fbb434a8c954016a94c44648f85974e",
            "_dom_classes": [],
            "description": "x",
            "step": 1,
            "_model_name": "IntSliderModel",
            "orientation": "horizontal",
            "max": 30,
            "_view_module": "@jupyter-widgets/controls",
            "_model_module_version": "1.5.0",
            "value": 10,
            "_view_count": null,
            "disabled": false,
            "_view_module_version": "1.5.0",
            "min": 0,
            "continuous_update": true,
            "readout_format": "d",
            "description_tooltip": null,
            "readout": true,
            "_model_module": "@jupyter-widgets/controls",
            "layout": "IPY_MODEL_5817348eb3774f52a1231ffd4f1caef6"
          }
        },
        "8d2a3771d25c44c5935a0734851a1c2a": {
          "model_module": "@jupyter-widgets/controls",
          "model_name": "DropdownModel",
          "model_module_version": "1.5.0",
          "state": {
            "_options_labels": [
              "Data",
              "Liczba_Silnikow",
              "Ilosc_ofiar_smiertelnych",
              "Ilość ciężko rannych",
              "Ilość lekko rannych"
            ],
            "_view_name": "DropdownView",
            "style": "IPY_MODEL_763d27b6beca424fa04bd5802f320124",
            "_dom_classes": [],
            "description": "column",
            "_model_name": "DropdownModel",
            "index": 2,
            "_view_module": "@jupyter-widgets/controls",
            "_model_module_version": "1.5.0",
            "_view_count": null,
            "disabled": false,
            "_view_module_version": "1.5.0",
            "description_tooltip": null,
            "_model_module": "@jupyter-widgets/controls",
            "layout": "IPY_MODEL_0835e85061894826b887f78e104abeee"
          }
        },
        "6c0b6a0a8b94489ebd0d209c52429b6c": {
          "model_module": "@jupyter-widgets/output",
          "model_name": "OutputModel",
          "model_module_version": "1.0.0",
          "state": {
            "_view_name": "OutputView",
            "msg_id": "",
            "_dom_classes": [],
            "_model_name": "OutputModel",
            "outputs": [
              {
                "output_type": "display_data",
                "data": {
                  "text/html": "\n  <div id=\"df-185cbdcb-fb90-4b26-bd74-7f495c91fbf4\">\n    <div class=\"colab-df-container\">\n      <div>\n<style scoped>\n    .dataframe tbody tr th:only-of-type {\n        vertical-align: middle;\n    }\n\n    .dataframe tbody tr th {\n        vertical-align: top;\n    }\n\n    .dataframe thead th {\n        text-align: right;\n    }\n</style>\n<table border=\"1\" class=\"dataframe\">\n  <thead>\n    <tr style=\"text-align: right;\">\n      <th></th>\n      <th>Data</th>\n      <th>Kraj</th>\n      <th>Typ Maszyny</th>\n      <th>Cel Lotu</th>\n      <th>Ilosc_ofiar_smiertelnych</th>\n      <th>Ilość lekko rannych</th>\n    </tr>\n  </thead>\n  <tbody>\n    <tr>\n      <th>6530</th>\n      <td>2009</td>\n      <td>United States</td>\n      <td>Airplane</td>\n      <td>Personal</td>\n      <td>14</td>\n      <td>0</td>\n    </tr>\n    <tr>\n      <th>7705</th>\n      <td>1992</td>\n      <td>United States</td>\n      <td>Airplane</td>\n      <td>Unknown</td>\n      <td>27</td>\n      <td>12</td>\n    </tr>\n  </tbody>\n</table>\n</div>\n      <button class=\"colab-df-convert\" onclick=\"convertToInteractive('df-185cbdcb-fb90-4b26-bd74-7f495c91fbf4')\"\n              title=\"Convert this dataframe to an interactive table.\"\n              style=\"display:none;\">\n        \n  <svg xmlns=\"http://www.w3.org/2000/svg\" height=\"24px\"viewBox=\"0 0 24 24\"\n       width=\"24px\">\n    <path d=\"M0 0h24v24H0V0z\" fill=\"none\"/>\n    <path d=\"M18.56 5.44l.94 2.06.94-2.06 2.06-.94-2.06-.94-.94-2.06-.94 2.06-2.06.94zm-11 1L8.5 8.5l.94-2.06 2.06-.94-2.06-.94L8.5 2.5l-.94 2.06-2.06.94zm10 10l.94 2.06.94-2.06 2.06-.94-2.06-.94-.94-2.06-.94 2.06-2.06.94z\"/><path d=\"M17.41 7.96l-1.37-1.37c-.4-.4-.92-.59-1.43-.59-.52 0-1.04.2-1.43.59L10.3 9.45l-7.72 7.72c-.78.78-.78 2.05 0 2.83L4 21.41c.39.39.9.59 1.41.59.51 0 1.02-.2 1.41-.59l7.78-7.78 2.81-2.81c.8-.78.8-2.07 0-2.86zM5.41 20L4 18.59l7.72-7.72 1.47 1.35L5.41 20z\"/>\n  </svg>\n      </button>\n      \n  <style>\n    .colab-df-container {\n      display:flex;\n      flex-wrap:wrap;\n      gap: 12px;\n    }\n\n    .colab-df-convert {\n      background-color: #E8F0FE;\n      border: none;\n      border-radius: 50%;\n      cursor: pointer;\n      display: none;\n      fill: #1967D2;\n      height: 32px;\n      padding: 0 0 0 0;\n      width: 32px;\n    }\n\n    .colab-df-convert:hover {\n      background-color: #E2EBFA;\n      box-shadow: 0px 1px 2px rgba(60, 64, 67, 0.3), 0px 1px 3px 1px rgba(60, 64, 67, 0.15);\n      fill: #174EA6;\n    }\n\n    [theme=dark] .colab-df-convert {\n      background-color: #3B4455;\n      fill: #D2E3FC;\n    }\n\n    [theme=dark] .colab-df-convert:hover {\n      background-color: #434B5C;\n      box-shadow: 0px 1px 3px 1px rgba(0, 0, 0, 0.15);\n      filter: drop-shadow(0px 1px 2px rgba(0, 0, 0, 0.3));\n      fill: #FFFFFF;\n    }\n  </style>\n\n      <script>\n        const buttonEl =\n          document.querySelector('#df-185cbdcb-fb90-4b26-bd74-7f495c91fbf4 button.colab-df-convert');\n        buttonEl.style.display =\n          google.colab.kernel.accessAllowed ? 'block' : 'none';\n\n        async function convertToInteractive(key) {\n          const element = document.querySelector('#df-185cbdcb-fb90-4b26-bd74-7f495c91fbf4');\n          const dataTable =\n            await google.colab.kernel.invokeFunction('convertToInteractive',\n                                                     [key], {});\n          if (!dataTable) return;\n\n          const docLinkHtml = 'Like what you see? Visit the ' +\n            '<a target=\"_blank\" href=https://colab.research.google.com/notebooks/data_table.ipynb>data table notebook</a>'\n            + ' to learn more about interactive tables.';\n          element.innerHTML = '';\n          dataTable['output_type'] = 'display_data';\n          await google.colab.output.renderOutput(dataTable, element);\n          const docLink = document.createElement('div');\n          docLink.innerHTML = docLinkHtml;\n          element.appendChild(docLink);\n        }\n      </script>\n    </div>\n  </div>\n  ",
                  "text/plain": "      Data           Kraj  ... Ilosc_ofiar_smiertelnych Ilość lekko rannych\n6530  2009  United States  ...                       14                   0\n7705  1992  United States  ...                       27                  12\n\n[2 rows x 6 columns]"
                },
                "metadata": {}
              }
            ],
            "_view_module": "@jupyter-widgets/output",
            "_model_module_version": "1.0.0",
            "_view_count": null,
            "_view_module_version": "1.0.0",
            "layout": "IPY_MODEL_b7f829f8727f40e8a4767386d12bdc86",
            "_model_module": "@jupyter-widgets/output"
          }
        },
        "1fbb434a8c954016a94c44648f85974e": {
          "model_module": "@jupyter-widgets/controls",
          "model_name": "SliderStyleModel",
          "model_module_version": "1.5.0",
          "state": {
            "_view_name": "StyleView",
            "handle_color": null,
            "_model_name": "SliderStyleModel",
            "description_width": "",
            "_view_module": "@jupyter-widgets/base",
            "_model_module_version": "1.5.0",
            "_view_count": null,
            "_view_module_version": "1.2.0",
            "_model_module": "@jupyter-widgets/controls"
          }
        },
        "5817348eb3774f52a1231ffd4f1caef6": {
          "model_module": "@jupyter-widgets/base",
          "model_name": "LayoutModel",
          "model_module_version": "1.2.0",
          "state": {
            "_view_name": "LayoutView",
            "grid_template_rows": null,
            "right": null,
            "justify_content": null,
            "_view_module": "@jupyter-widgets/base",
            "overflow": null,
            "_model_module_version": "1.2.0",
            "_view_count": null,
            "flex_flow": null,
            "width": null,
            "min_width": null,
            "border": null,
            "align_items": null,
            "bottom": null,
            "_model_module": "@jupyter-widgets/base",
            "top": null,
            "grid_column": null,
            "overflow_y": null,
            "overflow_x": null,
            "grid_auto_flow": null,
            "grid_area": null,
            "grid_template_columns": null,
            "flex": null,
            "_model_name": "LayoutModel",
            "justify_items": null,
            "grid_row": null,
            "max_height": null,
            "align_content": null,
            "visibility": null,
            "align_self": null,
            "height": null,
            "min_height": null,
            "padding": null,
            "grid_auto_rows": null,
            "grid_gap": null,
            "max_width": null,
            "order": null,
            "_view_module_version": "1.2.0",
            "grid_template_areas": null,
            "object_position": null,
            "object_fit": null,
            "grid_auto_columns": null,
            "margin": null,
            "display": null,
            "left": null
          }
        },
        "763d27b6beca424fa04bd5802f320124": {
          "model_module": "@jupyter-widgets/controls",
          "model_name": "DescriptionStyleModel",
          "model_module_version": "1.5.0",
          "state": {
            "_view_name": "StyleView",
            "_model_name": "DescriptionStyleModel",
            "description_width": "",
            "_view_module": "@jupyter-widgets/base",
            "_model_module_version": "1.5.0",
            "_view_count": null,
            "_view_module_version": "1.2.0",
            "_model_module": "@jupyter-widgets/controls"
          }
        },
        "0835e85061894826b887f78e104abeee": {
          "model_module": "@jupyter-widgets/base",
          "model_name": "LayoutModel",
          "model_module_version": "1.2.0",
          "state": {
            "_view_name": "LayoutView",
            "grid_template_rows": null,
            "right": null,
            "justify_content": null,
            "_view_module": "@jupyter-widgets/base",
            "overflow": null,
            "_model_module_version": "1.2.0",
            "_view_count": null,
            "flex_flow": null,
            "width": null,
            "min_width": null,
            "border": null,
            "align_items": null,
            "bottom": null,
            "_model_module": "@jupyter-widgets/base",
            "top": null,
            "grid_column": null,
            "overflow_y": null,
            "overflow_x": null,
            "grid_auto_flow": null,
            "grid_area": null,
            "grid_template_columns": null,
            "flex": null,
            "_model_name": "LayoutModel",
            "justify_items": null,
            "grid_row": null,
            "max_height": null,
            "align_content": null,
            "visibility": null,
            "align_self": null,
            "height": null,
            "min_height": null,
            "padding": null,
            "grid_auto_rows": null,
            "grid_gap": null,
            "max_width": null,
            "order": null,
            "_view_module_version": "1.2.0",
            "grid_template_areas": null,
            "object_position": null,
            "object_fit": null,
            "grid_auto_columns": null,
            "margin": null,
            "display": null,
            "left": null
          }
        },
        "b7f829f8727f40e8a4767386d12bdc86": {
          "model_module": "@jupyter-widgets/base",
          "model_name": "LayoutModel",
          "model_module_version": "1.2.0",
          "state": {
            "_view_name": "LayoutView",
            "grid_template_rows": null,
            "right": null,
            "justify_content": null,
            "_view_module": "@jupyter-widgets/base",
            "overflow": null,
            "_model_module_version": "1.2.0",
            "_view_count": null,
            "flex_flow": null,
            "width": null,
            "min_width": null,
            "border": null,
            "align_items": null,
            "bottom": null,
            "_model_module": "@jupyter-widgets/base",
            "top": null,
            "grid_column": null,
            "overflow_y": null,
            "overflow_x": null,
            "grid_auto_flow": null,
            "grid_area": null,
            "grid_template_columns": null,
            "flex": null,
            "_model_name": "LayoutModel",
            "justify_items": null,
            "grid_row": null,
            "max_height": null,
            "align_content": null,
            "visibility": null,
            "align_self": null,
            "height": null,
            "min_height": null,
            "padding": null,
            "grid_auto_rows": null,
            "grid_gap": null,
            "max_width": null,
            "order": null,
            "_view_module_version": "1.2.0",
            "grid_template_areas": null,
            "object_position": null,
            "object_fit": null,
            "grid_auto_columns": null,
            "margin": null,
            "display": null,
            "left": null
          }
        }
      }
    }
  },
  "nbformat": 4,
  "nbformat_minor": 0
}